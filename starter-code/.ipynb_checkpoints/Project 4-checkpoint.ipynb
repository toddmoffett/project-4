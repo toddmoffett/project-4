{
 "cells": [
  {
   "cell_type": "markdown",
   "metadata": {
    "focus": false,
    "id": "69b9a648-bcc7-490d-9f9b-ea244d156bd6"
   },
   "source": [
    "# Project 4"
   ]
  },
  {
   "cell_type": "code",
   "execution_count": 361,
   "metadata": {
    "collapsed": true,
    "focus": false,
    "id": "2c6752c4-7704-4c94-8bc0-6f13d2d0d570"
   },
   "outputs": [],
   "source": [
    "import pandas as pd\n",
    "import numpy as np\n",
    "import matplotlib.pyplot as plt\n",
    "import seaborn as sns\n",
    "%matplotlib inline"
   ]
  },
  {
   "cell_type": "code",
   "execution_count": 3,
   "metadata": {
    "collapsed": false,
    "focus": false,
    "id": "e915023e-6b0d-4982-af2a-b1e0355f4927"
   },
   "outputs": [],
   "source": [
    "data = '../assets/indeed-scraped-job-postings.csv'"
   ]
  },
  {
   "cell_type": "code",
   "execution_count": 962,
   "metadata": {
    "collapsed": false,
    "focus": false,
    "id": "a1af53c9-9090-494f-b82e-cadb60a54909"
   },
   "outputs": [],
   "source": [
    "df = pd.read_csv(data)"
   ]
  },
  {
   "cell_type": "markdown",
   "metadata": {},
   "source": [
    "### Clean data"
   ]
  },
  {
   "cell_type": "markdown",
   "metadata": {},
   "source": [
    "Drop NA"
   ]
  },
  {
   "cell_type": "code",
   "execution_count": 963,
   "metadata": {
    "collapsed": false
   },
   "outputs": [],
   "source": [
    "df.dropna(axis=0, inplace=True)"
   ]
  },
  {
   "cell_type": "markdown",
   "metadata": {},
   "source": [
    "Remove columns salary and company"
   ]
  },
  {
   "cell_type": "code",
   "execution_count": 964,
   "metadata": {
    "collapsed": false,
    "focus": false,
    "id": "6e259594-1c52-436b-ab9e-527e071941c1"
   },
   "outputs": [],
   "source": [
    "df.drop('salary', inplace=True, axis=1)\n",
    "df.drop('company', inplace=True, axis=1)"
   ]
  },
  {
   "cell_type": "markdown",
   "metadata": {},
   "source": [
    "Lowercase city, summary and title columns"
   ]
  },
  {
   "cell_type": "code",
   "execution_count": 965,
   "metadata": {
    "collapsed": true
   },
   "outputs": [],
   "source": [
    "df.city = df.city.str.lower()\n",
    "df.summary = df.summary.str.lower()\n",
    "df.title = df.title.str.lower()"
   ]
  },
  {
   "cell_type": "markdown",
   "metadata": {},
   "source": [
    "Replace '+' with '-' in city column"
   ]
  },
  {
   "cell_type": "code",
   "execution_count": 966,
   "metadata": {
    "collapsed": false
   },
   "outputs": [],
   "source": [
    "df.city = df.city.str.replace('+','_')"
   ]
  },
  {
   "cell_type": "markdown",
   "metadata": {},
   "source": [
    "Remove Punctuation"
   ]
  },
  {
   "cell_type": "code",
   "execution_count": 967,
   "metadata": {
    "collapsed": false,
    "scrolled": true
   },
   "outputs": [],
   "source": [
    "df.summary = df.summary.str.replace('[^\\w\\s]',' ')\n",
    "df.title = df.title.str.replace('[^\\w\\s]',' ')"
   ]
  },
  {
   "cell_type": "markdown",
   "metadata": {
    "focus": false,
    "id": "ff98ce64-78a7-441f-a675-63464e32c834"
   },
   "source": [
    "### EDA on salaries"
   ]
  },
  {
   "cell_type": "code",
   "execution_count": 880,
   "metadata": {
    "collapsed": false,
    "scrolled": true
   },
   "outputs": [
    {
     "data": {
      "text/plain": [
       "count       406.000000\n",
       "mean     107762.695813\n",
       "std       48931.367632\n",
       "min       10000.000000\n",
       "25%       70000.000000\n",
       "50%      100000.000000\n",
       "75%      142164.500000\n",
       "max      300000.000000\n",
       "Name: parsed_salary, dtype: float64"
      ]
     },
     "execution_count": 880,
     "metadata": {},
     "output_type": "execute_result"
    }
   ],
   "source": [
    "df['parsed_salary'].describe()"
   ]
  },
  {
   "cell_type": "markdown",
   "metadata": {},
   "source": [
    "### Create dummy column and series for High salary and low salary (Above 100K and below 100K)"
   ]
  },
  {
   "cell_type": "code",
   "execution_count": 968,
   "metadata": {
    "collapsed": false
   },
   "outputs": [],
   "source": [
    "df['salary_scale'] = np.where(df['parsed_salary']>=100000, 1, 0)"
   ]
  },
  {
   "cell_type": "code",
   "execution_count": 969,
   "metadata": {
    "collapsed": true
   },
   "outputs": [],
   "source": [
    "salary_scale = df.salary_scale"
   ]
  },
  {
   "cell_type": "markdown",
   "metadata": {},
   "source": [
    "### Two dataframes for high pay jobs and low pay jobs"
   ]
  },
  {
   "cell_type": "code",
   "execution_count": 945,
   "metadata": {
    "collapsed": false
   },
   "outputs": [],
   "source": [
    "high_pay_titles = df[df['salary_scale'] >= 1]"
   ]
  },
  {
   "cell_type": "code",
   "execution_count": 946,
   "metadata": {
    "collapsed": false
   },
   "outputs": [],
   "source": [
    "low_pay_titles = df[df['salary_scale'] <= 0]"
   ]
  },
  {
   "cell_type": "markdown",
   "metadata": {},
   "source": [
    "### Create dummy columns for cities"
   ]
  },
  {
   "cell_type": "code",
   "execution_count": 970,
   "metadata": {
    "collapsed": true
   },
   "outputs": [],
   "source": [
    "df_cities = pd.get_dummies(df['city']).astype(np.int64)"
   ]
  },
  {
   "cell_type": "code",
   "execution_count": 971,
   "metadata": {
    "collapsed": false
   },
   "outputs": [
    {
     "data": {
      "text/html": [
       "<div>\n",
       "<table border=\"1\" class=\"dataframe\">\n",
       "  <thead>\n",
       "    <tr style=\"text-align: right;\">\n",
       "      <th></th>\n",
       "      <th>atlanta</th>\n",
       "      <th>austin</th>\n",
       "      <th>boston</th>\n",
       "      <th>chicago</th>\n",
       "      <th>dallas</th>\n",
       "      <th>denver</th>\n",
       "      <th>houston</th>\n",
       "      <th>los_angeles</th>\n",
       "      <th>miami</th>\n",
       "      <th>new_york</th>\n",
       "      <th>palo_alto</th>\n",
       "      <th>philadelphia</th>\n",
       "      <th>phoenix</th>\n",
       "      <th>pittsburgh</th>\n",
       "      <th>portland</th>\n",
       "      <th>san_diego</th>\n",
       "      <th>san_francisco</th>\n",
       "      <th>seattle</th>\n",
       "    </tr>\n",
       "  </thead>\n",
       "  <tbody>\n",
       "    <tr>\n",
       "      <th>0</th>\n",
       "      <td>0</td>\n",
       "      <td>0</td>\n",
       "      <td>0</td>\n",
       "      <td>0</td>\n",
       "      <td>0</td>\n",
       "      <td>1</td>\n",
       "      <td>0</td>\n",
       "      <td>0</td>\n",
       "      <td>0</td>\n",
       "      <td>0</td>\n",
       "      <td>0</td>\n",
       "      <td>0</td>\n",
       "      <td>0</td>\n",
       "      <td>0</td>\n",
       "      <td>0</td>\n",
       "      <td>0</td>\n",
       "      <td>0</td>\n",
       "      <td>0</td>\n",
       "    </tr>\n",
       "    <tr>\n",
       "      <th>1</th>\n",
       "      <td>0</td>\n",
       "      <td>0</td>\n",
       "      <td>0</td>\n",
       "      <td>0</td>\n",
       "      <td>0</td>\n",
       "      <td>1</td>\n",
       "      <td>0</td>\n",
       "      <td>0</td>\n",
       "      <td>0</td>\n",
       "      <td>0</td>\n",
       "      <td>0</td>\n",
       "      <td>0</td>\n",
       "      <td>0</td>\n",
       "      <td>0</td>\n",
       "      <td>0</td>\n",
       "      <td>0</td>\n",
       "      <td>0</td>\n",
       "      <td>0</td>\n",
       "    </tr>\n",
       "    <tr>\n",
       "      <th>2</th>\n",
       "      <td>0</td>\n",
       "      <td>0</td>\n",
       "      <td>0</td>\n",
       "      <td>0</td>\n",
       "      <td>0</td>\n",
       "      <td>1</td>\n",
       "      <td>0</td>\n",
       "      <td>0</td>\n",
       "      <td>0</td>\n",
       "      <td>0</td>\n",
       "      <td>0</td>\n",
       "      <td>0</td>\n",
       "      <td>0</td>\n",
       "      <td>0</td>\n",
       "      <td>0</td>\n",
       "      <td>0</td>\n",
       "      <td>0</td>\n",
       "      <td>0</td>\n",
       "    </tr>\n",
       "    <tr>\n",
       "      <th>3</th>\n",
       "      <td>0</td>\n",
       "      <td>0</td>\n",
       "      <td>0</td>\n",
       "      <td>0</td>\n",
       "      <td>0</td>\n",
       "      <td>1</td>\n",
       "      <td>0</td>\n",
       "      <td>0</td>\n",
       "      <td>0</td>\n",
       "      <td>0</td>\n",
       "      <td>0</td>\n",
       "      <td>0</td>\n",
       "      <td>0</td>\n",
       "      <td>0</td>\n",
       "      <td>0</td>\n",
       "      <td>0</td>\n",
       "      <td>0</td>\n",
       "      <td>0</td>\n",
       "    </tr>\n",
       "    <tr>\n",
       "      <th>4</th>\n",
       "      <td>0</td>\n",
       "      <td>0</td>\n",
       "      <td>0</td>\n",
       "      <td>0</td>\n",
       "      <td>0</td>\n",
       "      <td>1</td>\n",
       "      <td>0</td>\n",
       "      <td>0</td>\n",
       "      <td>0</td>\n",
       "      <td>0</td>\n",
       "      <td>0</td>\n",
       "      <td>0</td>\n",
       "      <td>0</td>\n",
       "      <td>0</td>\n",
       "      <td>0</td>\n",
       "      <td>0</td>\n",
       "      <td>0</td>\n",
       "      <td>0</td>\n",
       "    </tr>\n",
       "  </tbody>\n",
       "</table>\n",
       "</div>"
      ],
      "text/plain": [
       "   atlanta  austin  boston  chicago  dallas  denver  houston  los_angeles  \\\n",
       "0        0       0       0        0       0       1        0            0   \n",
       "1        0       0       0        0       0       1        0            0   \n",
       "2        0       0       0        0       0       1        0            0   \n",
       "3        0       0       0        0       0       1        0            0   \n",
       "4        0       0       0        0       0       1        0            0   \n",
       "\n",
       "   miami  new_york  palo_alto  philadelphia  phoenix  pittsburgh  portland  \\\n",
       "0      0         0          0             0        0           0         0   \n",
       "1      0         0          0             0        0           0         0   \n",
       "2      0         0          0             0        0           0         0   \n",
       "3      0         0          0             0        0           0         0   \n",
       "4      0         0          0             0        0           0         0   \n",
       "\n",
       "   san_diego  san_francisco  seattle  \n",
       "0          0              0        0  \n",
       "1          0              0        0  \n",
       "2          0              0        0  \n",
       "3          0              0        0  \n",
       "4          0              0        0  "
      ]
     },
     "execution_count": 971,
     "metadata": {},
     "output_type": "execute_result"
    }
   ],
   "source": [
    "df_cities.head()"
   ]
  },
  {
   "cell_type": "markdown",
   "metadata": {},
   "source": [
    "### Discover unique titles for salary scale"
   ]
  },
  {
   "cell_type": "code",
   "execution_count": 949,
   "metadata": {
    "collapsed": false,
    "scrolled": true
   },
   "outputs": [
    {
     "data": {
      "text/html": [
       "<div>\n",
       "<table border=\"1\" class=\"dataframe\">\n",
       "  <thead>\n",
       "    <tr style=\"text-align: right;\">\n",
       "      <th></th>\n",
       "      <th>city</th>\n",
       "      <th>summary</th>\n",
       "      <th>title</th>\n",
       "      <th>parsed_salary</th>\n",
       "      <th>salary_scale</th>\n",
       "    </tr>\n",
       "  </thead>\n",
       "  <tbody>\n",
       "    <tr>\n",
       "      <th>9</th>\n",
       "      <td>denver</td>\n",
       "      <td>we are looking for a software engineer data sc...</td>\n",
       "      <td>software engineer data scientist</td>\n",
       "      <td>130000.0</td>\n",
       "      <td>1</td>\n",
       "    </tr>\n",
       "    <tr>\n",
       "      <th>14</th>\n",
       "      <td>denver</td>\n",
       "      <td>digitalglobe s geospatial big data  gbd  initi...</td>\n",
       "      <td>platform developer geospatial big data  python</td>\n",
       "      <td>105000.0</td>\n",
       "      <td>1</td>\n",
       "    </tr>\n",
       "    <tr>\n",
       "      <th>16</th>\n",
       "      <td>denver</td>\n",
       "      <td>doing all this with an exceptional group of so...</td>\n",
       "      <td>devops engineer</td>\n",
       "      <td>170000.0</td>\n",
       "      <td>1</td>\n",
       "    </tr>\n",
       "    <tr>\n",
       "      <th>17</th>\n",
       "      <td>austin</td>\n",
       "      <td>what are we looking for in this data scientist...</td>\n",
       "      <td>data scientist programmer specialist</td>\n",
       "      <td>140000.0</td>\n",
       "      <td>1</td>\n",
       "    </tr>\n",
       "    <tr>\n",
       "      <th>18</th>\n",
       "      <td>austin</td>\n",
       "      <td>senior deep learning data scientist  forecasti...</td>\n",
       "      <td>senior deep learning data scientist</td>\n",
       "      <td>150000.0</td>\n",
       "      <td>1</td>\n",
       "    </tr>\n",
       "  </tbody>\n",
       "</table>\n",
       "</div>"
      ],
      "text/plain": [
       "      city                                            summary  \\\n",
       "9   denver  we are looking for a software engineer data sc...   \n",
       "14  denver  digitalglobe s geospatial big data  gbd  initi...   \n",
       "16  denver  doing all this with an exceptional group of so...   \n",
       "17  austin  what are we looking for in this data scientist...   \n",
       "18  austin  senior deep learning data scientist  forecasti...   \n",
       "\n",
       "                                              title  parsed_salary  \\\n",
       "9                  software engineer data scientist       130000.0   \n",
       "14  platform developer geospatial big data  python        105000.0   \n",
       "16                                  devops engineer       170000.0   \n",
       "17             data scientist programmer specialist       140000.0   \n",
       "18              senior deep learning data scientist       150000.0   \n",
       "\n",
       "    salary_scale  \n",
       "9              1  \n",
       "14             1  \n",
       "16             1  \n",
       "17             1  \n",
       "18             1  "
      ]
     },
     "execution_count": 949,
     "metadata": {},
     "output_type": "execute_result"
    }
   ],
   "source": [
    "high_pay_titles.head()"
   ]
  },
  {
   "cell_type": "code",
   "execution_count": 950,
   "metadata": {
    "collapsed": false
   },
   "outputs": [
    {
     "data": {
      "text/html": [
       "<div>\n",
       "<table border=\"1\" class=\"dataframe\">\n",
       "  <thead>\n",
       "    <tr style=\"text-align: right;\">\n",
       "      <th></th>\n",
       "      <th>city</th>\n",
       "      <th>summary</th>\n",
       "      <th>title</th>\n",
       "      <th>parsed_salary</th>\n",
       "      <th>salary_scale</th>\n",
       "    </tr>\n",
       "  </thead>\n",
       "  <tbody>\n",
       "    <tr>\n",
       "      <th>0</th>\n",
       "      <td>denver</td>\n",
       "      <td>would you like to join the more than 10 000 sc...</td>\n",
       "      <td>statistician  gs 1350 12  deu perm ds</td>\n",
       "      <td>87792.0</td>\n",
       "      <td>0</td>\n",
       "    </tr>\n",
       "    <tr>\n",
       "      <th>1</th>\n",
       "      <td>denver</td>\n",
       "      <td>investigate potential uses of geospatial data ...</td>\n",
       "      <td>interdisciplinary cartographer geographer   gs...</td>\n",
       "      <td>85127.5</td>\n",
       "      <td>0</td>\n",
       "    </tr>\n",
       "    <tr>\n",
       "      <th>2</th>\n",
       "      <td>denver</td>\n",
       "      <td>advise the data developer with regard to creat...</td>\n",
       "      <td>financial data scientist</td>\n",
       "      <td>75000.0</td>\n",
       "      <td>0</td>\n",
       "    </tr>\n",
       "    <tr>\n",
       "      <th>3</th>\n",
       "      <td>denver</td>\n",
       "      <td>portal managers on student outcome data report...</td>\n",
       "      <td>senior research analyst</td>\n",
       "      <td>68983.5</td>\n",
       "      <td>0</td>\n",
       "    </tr>\n",
       "    <tr>\n",
       "      <th>4</th>\n",
       "      <td>denver</td>\n",
       "      <td>experience entering and manipulating data in a...</td>\n",
       "      <td>animal care i</td>\n",
       "      <td>27000.0</td>\n",
       "      <td>0</td>\n",
       "    </tr>\n",
       "  </tbody>\n",
       "</table>\n",
       "</div>"
      ],
      "text/plain": [
       "     city                                            summary  \\\n",
       "0  denver  would you like to join the more than 10 000 sc...   \n",
       "1  denver  investigate potential uses of geospatial data ...   \n",
       "2  denver  advise the data developer with regard to creat...   \n",
       "3  denver  portal managers on student outcome data report...   \n",
       "4  denver  experience entering and manipulating data in a...   \n",
       "\n",
       "                                               title  parsed_salary  \\\n",
       "0             statistician  gs 1350 12  deu perm ds         87792.0   \n",
       "1  interdisciplinary cartographer geographer   gs...        85127.5   \n",
       "2                           financial data scientist        75000.0   \n",
       "3                            senior research analyst        68983.5   \n",
       "4                                      animal care i        27000.0   \n",
       "\n",
       "   salary_scale  \n",
       "0             0  \n",
       "1             0  \n",
       "2             0  \n",
       "3             0  \n",
       "4             0  "
      ]
     },
     "execution_count": 950,
     "metadata": {},
     "output_type": "execute_result"
    }
   ],
   "source": [
    "low_pay_titles.head()"
   ]
  },
  {
   "cell_type": "markdown",
   "metadata": {},
   "source": [
    "#### Check for keywords in titles"
   ]
  },
  {
   "cell_type": "code",
   "execution_count": 951,
   "metadata": {
    "collapsed": false,
    "scrolled": true
   },
   "outputs": [
    {
     "data": {
      "text/html": [
       "<div>\n",
       "<table border=\"1\" class=\"dataframe\">\n",
       "  <thead>\n",
       "    <tr style=\"text-align: right;\">\n",
       "      <th></th>\n",
       "      <th>title</th>\n",
       "      <th>salary_scale</th>\n",
       "      <th>summary</th>\n",
       "    </tr>\n",
       "  </thead>\n",
       "  <tbody>\n",
       "    <tr>\n",
       "      <th>79</th>\n",
       "      <td>lead computer vision scientist  ar vr   r d   ...</td>\n",
       "      <td>1</td>\n",
       "      <td>our client is a silicon valley startup that cr...</td>\n",
       "    </tr>\n",
       "    <tr>\n",
       "      <th>104</th>\n",
       "      <td>senior data scientist  python  r  in des plaines</td>\n",
       "      <td>1</td>\n",
       "      <td>hadoop hive pig big data experience  a non pro...</td>\n",
       "    </tr>\n",
       "    <tr>\n",
       "      <th>110</th>\n",
       "      <td>product development specialist   food r d</td>\n",
       "      <td>0</td>\n",
       "      <td>uses sensory data in new product development e...</td>\n",
       "    </tr>\n",
       "    <tr>\n",
       "      <th>113</th>\n",
       "      <td>manager of data science  python  r</td>\n",
       "      <td>1</td>\n",
       "      <td>they need someone with the experience to be ha...</td>\n",
       "    </tr>\n",
       "    <tr>\n",
       "      <th>300</th>\n",
       "      <td>senior software scientist     platform tools r d</td>\n",
       "      <td>1</td>\n",
       "      <td>senior software scientist     platform tools r...</td>\n",
       "    </tr>\n",
       "  </tbody>\n",
       "</table>\n",
       "</div>"
      ],
      "text/plain": [
       "                                                 title  salary_scale  \\\n",
       "79   lead computer vision scientist  ar vr   r d   ...             1   \n",
       "104   senior data scientist  python  r  in des plaines             1   \n",
       "110          product development specialist   food r d             0   \n",
       "113                manager of data science  python  r              1   \n",
       "300   senior software scientist     platform tools r d             1   \n",
       "\n",
       "                                               summary  \n",
       "79   our client is a silicon valley startup that cr...  \n",
       "104  hadoop hive pig big data experience  a non pro...  \n",
       "110  uses sensory data in new product development e...  \n",
       "113  they need someone with the experience to be ha...  \n",
       "300  senior software scientist     platform tools r...  "
      ]
     },
     "execution_count": 951,
     "metadata": {},
     "output_type": "execute_result"
    }
   ],
   "source": [
    "df[(df['title'].str.contains(' r ')) & (df['salary_scale'] <= 1)][['title','salary_scale','summary']]"
   ]
  },
  {
   "cell_type": "code",
   "execution_count": 1160,
   "metadata": {
    "collapsed": false,
    "scrolled": true
   },
   "outputs": [
    {
     "data": {
      "text/plain": [
       "394    data scientist   sql\n",
       "Name: title, dtype: object"
      ]
     },
     "execution_count": 1160,
     "metadata": {},
     "output_type": "execute_result"
    }
   ],
   "source": [
    "df[(df['title'].str.contains('sql')) & df['salary_scale'] >= 1]['title']"
   ]
  },
  {
   "cell_type": "markdown",
   "metadata": {},
   "source": [
    "### Create columns for title values using function to make dummy variables"
   ]
  },
  {
   "cell_type": "markdown",
   "metadata": {},
   "source": [
    "#### Create function to add title keywords as values to df"
   ]
  },
  {
   "cell_type": "code",
   "execution_count": 972,
   "metadata": {
    "collapsed": false
   },
   "outputs": [],
   "source": [
    "def add_title_col(string):\n",
    "    if df['title'].str.contains(string).any():\n",
    "        df[string] = np.where(df['title'].str.contains(string), 1, 0)"
   ]
  },
  {
   "cell_type": "code",
   "execution_count": 1047,
   "metadata": {
    "collapsed": false
   },
   "outputs": [],
   "source": [
    "add_title_col('senior')\n",
    "add_title_col('data')\n",
    "add_title_col('scientist')\n",
    "add_title_col('engineer')\n",
    "add_title_col('engineering')\n",
    "add_title_col('python')\n",
    "add_title_col(' r ')\n",
    "add_title_col('geospatial')\n",
    "add_title_col('machine learning')\n",
    "add_title_col('developer')\n",
    "add_title_col('software')\n",
    "add_title_col('scala')\n",
    "add_title_col('analyst')\n",
    "add_title_col('quantitative')\n",
    "add_title_col('statistical')\n",
    "add_title_col('biotech')\n",
    "add_title_col('energy')\n",
    "add_title_col('stocks')\n",
    "add_title_col('research')\n",
    "add_title_col('big')\n",
    "add_title_col('platform')\n",
    "add_title_col('digital')\n",
    "add_title_col('marketing')\n",
    "add_title_col('media')\n",
    "add_title_col('financial')\n",
    "add_title_col('modeler')\n",
    "add_title_col('manager')"
   ]
  },
  {
   "cell_type": "markdown",
   "metadata": {},
   "source": [
    "#### Clean column names for copy paste needs"
   ]
  },
  {
   "cell_type": "code",
   "execution_count": 1161,
   "metadata": {
    "collapsed": true
   },
   "outputs": [],
   "source": [
    "col_names = df.columns\n",
    "clean_col_names = [str(f) for f in col_names]"
   ]
  },
  {
   "cell_type": "code",
   "execution_count": 1162,
   "metadata": {
    "collapsed": false,
    "scrolled": true
   },
   "outputs": [
    {
     "data": {
      "text/plain": [
       "['city',\n",
       " 'summary',\n",
       " 'title',\n",
       " 'parsed_salary',\n",
       " 'salary_scale',\n",
       " 'senior',\n",
       " 'data',\n",
       " 'scientist',\n",
       " 'engineer',\n",
       " 'engineering',\n",
       " 'python',\n",
       " ' r ',\n",
       " 'geospatial',\n",
       " 'machine learning',\n",
       " 'developer',\n",
       " 'software',\n",
       " 'scala',\n",
       " 'analyst',\n",
       " 'quantitative',\n",
       " 'statistical',\n",
       " 'biotech',\n",
       " 'energy',\n",
       " 'stocks',\n",
       " 'research',\n",
       " 'big',\n",
       " 'platform',\n",
       " 'digital',\n",
       " 'marketing',\n",
       " 'media',\n",
       " 'financial',\n",
       " 'modeler',\n",
       " 'manager']"
      ]
     },
     "execution_count": 1162,
     "metadata": {},
     "output_type": "execute_result"
    }
   ],
   "source": [
    "clean_col_names"
   ]
  },
  {
   "cell_type": "code",
   "execution_count": 1048,
   "metadata": {
    "collapsed": false,
    "scrolled": false
   },
   "outputs": [
    {
     "data": {
      "text/html": [
       "<div>\n",
       "<table border=\"1\" class=\"dataframe\">\n",
       "  <thead>\n",
       "    <tr style=\"text-align: right;\">\n",
       "      <th></th>\n",
       "      <th>city</th>\n",
       "      <th>summary</th>\n",
       "      <th>title</th>\n",
       "      <th>parsed_salary</th>\n",
       "      <th>salary_scale</th>\n",
       "      <th>senior</th>\n",
       "      <th>data</th>\n",
       "      <th>scientist</th>\n",
       "      <th>engineer</th>\n",
       "      <th>engineering</th>\n",
       "      <th>...</th>\n",
       "      <th>stocks</th>\n",
       "      <th>research</th>\n",
       "      <th>big</th>\n",
       "      <th>platform</th>\n",
       "      <th>digital</th>\n",
       "      <th>marketing</th>\n",
       "      <th>media</th>\n",
       "      <th>financial</th>\n",
       "      <th>modeler</th>\n",
       "      <th>manager</th>\n",
       "    </tr>\n",
       "  </thead>\n",
       "  <tbody>\n",
       "    <tr>\n",
       "      <th>0</th>\n",
       "      <td>denver</td>\n",
       "      <td>would you like to join the more than 10 000 sc...</td>\n",
       "      <td>statistician  gs 1350 12  deu perm ds</td>\n",
       "      <td>87792.0</td>\n",
       "      <td>0</td>\n",
       "      <td>0</td>\n",
       "      <td>0</td>\n",
       "      <td>0</td>\n",
       "      <td>0</td>\n",
       "      <td>0</td>\n",
       "      <td>...</td>\n",
       "      <td>0</td>\n",
       "      <td>0</td>\n",
       "      <td>0</td>\n",
       "      <td>0</td>\n",
       "      <td>0</td>\n",
       "      <td>0</td>\n",
       "      <td>0</td>\n",
       "      <td>0</td>\n",
       "      <td>0</td>\n",
       "      <td>0</td>\n",
       "    </tr>\n",
       "    <tr>\n",
       "      <th>1</th>\n",
       "      <td>denver</td>\n",
       "      <td>investigate potential uses of geospatial data ...</td>\n",
       "      <td>interdisciplinary cartographer geographer   gs...</td>\n",
       "      <td>85127.5</td>\n",
       "      <td>0</td>\n",
       "      <td>0</td>\n",
       "      <td>0</td>\n",
       "      <td>0</td>\n",
       "      <td>0</td>\n",
       "      <td>0</td>\n",
       "      <td>...</td>\n",
       "      <td>0</td>\n",
       "      <td>0</td>\n",
       "      <td>0</td>\n",
       "      <td>0</td>\n",
       "      <td>0</td>\n",
       "      <td>0</td>\n",
       "      <td>0</td>\n",
       "      <td>0</td>\n",
       "      <td>0</td>\n",
       "      <td>0</td>\n",
       "    </tr>\n",
       "  </tbody>\n",
       "</table>\n",
       "<p>2 rows × 32 columns</p>\n",
       "</div>"
      ],
      "text/plain": [
       "     city                                            summary  \\\n",
       "0  denver  would you like to join the more than 10 000 sc...   \n",
       "1  denver  investigate potential uses of geospatial data ...   \n",
       "\n",
       "                                               title  parsed_salary  \\\n",
       "0             statistician  gs 1350 12  deu perm ds         87792.0   \n",
       "1  interdisciplinary cartographer geographer   gs...        85127.5   \n",
       "\n",
       "   salary_scale  senior  data  scientist  engineer  engineering   ...     \\\n",
       "0             0       0     0          0         0            0   ...      \n",
       "1             0       0     0          0         0            0   ...      \n",
       "\n",
       "   stocks  research  big  platform  digital  marketing  media  financial  \\\n",
       "0       0         0    0         0        0          0      0          0   \n",
       "1       0         0    0         0        0          0      0          0   \n",
       "\n",
       "   modeler  manager  \n",
       "0        0        0  \n",
       "1        0        0  \n",
       "\n",
       "[2 rows x 32 columns]"
      ]
     },
     "execution_count": 1048,
     "metadata": {},
     "output_type": "execute_result"
    }
   ],
   "source": [
    "df.head(2)"
   ]
  },
  {
   "cell_type": "code",
   "execution_count": 1049,
   "metadata": {
    "collapsed": false
   },
   "outputs": [],
   "source": [
    "df_titles = df[:]"
   ]
  },
  {
   "cell_type": "code",
   "execution_count": 1051,
   "metadata": {
    "collapsed": false
   },
   "outputs": [
    {
     "name": "stderr",
     "output_type": "stream",
     "text": [
      "/Users/toddmoffett1/anaconda/envs/py27/lib/python2.7/site-packages/ipykernel/__main__.py:3: SettingWithCopyWarning: \n",
      "A value is trying to be set on a copy of a slice from a DataFrame\n",
      "\n",
      "See the caveats in the documentation: http://pandas.pydata.org/pandas-docs/stable/indexing.html#indexing-view-versus-copy\n",
      "  app.launch_new_instance()\n",
      "/Users/toddmoffett1/anaconda/envs/py27/lib/python2.7/site-packages/ipykernel/__main__.py:4: SettingWithCopyWarning: \n",
      "A value is trying to be set on a copy of a slice from a DataFrame\n",
      "\n",
      "See the caveats in the documentation: http://pandas.pydata.org/pandas-docs/stable/indexing.html#indexing-view-versus-copy\n",
      "/Users/toddmoffett1/anaconda/envs/py27/lib/python2.7/site-packages/ipykernel/__main__.py:5: SettingWithCopyWarning: \n",
      "A value is trying to be set on a copy of a slice from a DataFrame\n",
      "\n",
      "See the caveats in the documentation: http://pandas.pydata.org/pandas-docs/stable/indexing.html#indexing-view-versus-copy\n"
     ]
    }
   ],
   "source": [
    "# df_titles.drop('company', inplace=True, axis=1)\n",
    "# df_titles.drop('salary', inplace=True, axis=1)\n",
    "df_titles.drop('summary', inplace=True, axis=1)\n",
    "df_titles.drop('title', inplace=True, axis=1)\n",
    "df_titles.drop('parsed_salary', inplace=True, axis=1)"
   ]
  },
  {
   "cell_type": "code",
   "execution_count": 1052,
   "metadata": {
    "collapsed": false,
    "scrolled": false
   },
   "outputs": [
    {
     "data": {
      "text/html": [
       "<div>\n",
       "<table border=\"1\" class=\"dataframe\">\n",
       "  <thead>\n",
       "    <tr style=\"text-align: right;\">\n",
       "      <th></th>\n",
       "      <th>city</th>\n",
       "      <th>salary_scale</th>\n",
       "      <th>senior</th>\n",
       "      <th>data</th>\n",
       "      <th>scientist</th>\n",
       "      <th>engineer</th>\n",
       "      <th>engineering</th>\n",
       "      <th>python</th>\n",
       "      <th>r</th>\n",
       "      <th>geospatial</th>\n",
       "      <th>...</th>\n",
       "      <th>stocks</th>\n",
       "      <th>research</th>\n",
       "      <th>big</th>\n",
       "      <th>platform</th>\n",
       "      <th>digital</th>\n",
       "      <th>marketing</th>\n",
       "      <th>media</th>\n",
       "      <th>financial</th>\n",
       "      <th>modeler</th>\n",
       "      <th>manager</th>\n",
       "    </tr>\n",
       "  </thead>\n",
       "  <tbody>\n",
       "    <tr>\n",
       "      <th>0</th>\n",
       "      <td>denver</td>\n",
       "      <td>0</td>\n",
       "      <td>0</td>\n",
       "      <td>0</td>\n",
       "      <td>0</td>\n",
       "      <td>0</td>\n",
       "      <td>0</td>\n",
       "      <td>0</td>\n",
       "      <td>0</td>\n",
       "      <td>0</td>\n",
       "      <td>...</td>\n",
       "      <td>0</td>\n",
       "      <td>0</td>\n",
       "      <td>0</td>\n",
       "      <td>0</td>\n",
       "      <td>0</td>\n",
       "      <td>0</td>\n",
       "      <td>0</td>\n",
       "      <td>0</td>\n",
       "      <td>0</td>\n",
       "      <td>0</td>\n",
       "    </tr>\n",
       "    <tr>\n",
       "      <th>1</th>\n",
       "      <td>denver</td>\n",
       "      <td>0</td>\n",
       "      <td>0</td>\n",
       "      <td>0</td>\n",
       "      <td>0</td>\n",
       "      <td>0</td>\n",
       "      <td>0</td>\n",
       "      <td>0</td>\n",
       "      <td>0</td>\n",
       "      <td>0</td>\n",
       "      <td>...</td>\n",
       "      <td>0</td>\n",
       "      <td>0</td>\n",
       "      <td>0</td>\n",
       "      <td>0</td>\n",
       "      <td>0</td>\n",
       "      <td>0</td>\n",
       "      <td>0</td>\n",
       "      <td>0</td>\n",
       "      <td>0</td>\n",
       "      <td>0</td>\n",
       "    </tr>\n",
       "  </tbody>\n",
       "</table>\n",
       "<p>2 rows × 29 columns</p>\n",
       "</div>"
      ],
      "text/plain": [
       "     city  salary_scale  senior  data  scientist  engineer  engineering  \\\n",
       "0  denver             0       0     0          0         0            0   \n",
       "1  denver             0       0     0          0         0            0   \n",
       "\n",
       "   python   r   geospatial   ...     stocks  research  big  platform  digital  \\\n",
       "0       0    0           0   ...          0         0    0         0        0   \n",
       "1       0    0           0   ...          0         0    0         0        0   \n",
       "\n",
       "   marketing  media  financial  modeler  manager  \n",
       "0          0      0          0        0        0  \n",
       "1          0      0          0        0        0  \n",
       "\n",
       "[2 rows x 29 columns]"
      ]
     },
     "execution_count": 1052,
     "metadata": {},
     "output_type": "execute_result"
    }
   ],
   "source": [
    "df_titles.head(2)"
   ]
  },
  {
   "cell_type": "markdown",
   "metadata": {},
   "source": [
    "# EDA "
   ]
  },
  {
   "cell_type": "code",
   "execution_count": 1053,
   "metadata": {
    "collapsed": false
   },
   "outputs": [],
   "source": [
    "df_city_group = df.groupby(by=['city','salary_scale'], axis=0, as_index=False)\n",
    "df_city_group = df_city_group.agg({  \n",
    "                                     'senior': [np.sum,np.mean,np.std],\n",
    "                                     'data': [np.sum,np.mean,np.std],\n",
    "                                     'scientist': [np.sum,np.mean,np.std],\n",
    "                                     'engineer': [np.sum,np.mean,np.std],\n",
    "                                     'engineering': [np.sum,np.mean,np.std],\n",
    "                                     'python': [np.sum,np.mean,np.std],\n",
    "                                     ' r ': [np.sum,np.mean,np.std],\n",
    "                                     'geospatial': [np.sum,np.mean,np.std],\n",
    "                                     'machine learning': [np.sum,np.mean,np.std],\n",
    "                                     'developer': [np.sum,np.mean,np.std],\n",
    "                                     'software': [np.sum,np.mean,np.std],\n",
    "                                     'scala': [np.sum,np.mean,np.std],\n",
    "                                     'analyst': [np.sum,np.mean,np.std],\n",
    "                                     'quantitative': [np.sum,np.mean,np.std],\n",
    "                                     'statistical': [np.sum,np.mean,np.std],\n",
    "                                     'biotech': [np.sum,np.mean,np.std],\n",
    "                                     'energy': [np.sum,np.mean,np.std],\n",
    "                                     'stocks': [np.sum,np.mean,np.std],\n",
    "                                     'research': [np.sum,np.mean,np.std],\n",
    "                                     'big': [np.sum,np.mean,np.std],\n",
    "                                     'platform': [np.sum,np.mean,np.std],\n",
    "                                     'digital': [np.sum,np.mean,np.std],\n",
    "                                     'marketing': [np.sum,np.mean,np.std],\n",
    "                                     'media': [np.sum,np.mean,np.std],\n",
    "                                     'financial': [np.sum,np.mean,np.std],\n",
    "                                     'modeler': [np.sum,np.mean,np.std],\n",
    "                                     'manager': [np.sum,np.mean,np.std]\n",
    "                                  })"
   ]
  },
  {
   "cell_type": "code",
   "execution_count": 906,
   "metadata": {
    "collapsed": false,
    "scrolled": false
   },
   "outputs": [],
   "source": [
    "#df_city_group.transpose()"
   ]
  },
  {
   "cell_type": "code",
   "execution_count": 1056,
   "metadata": {
    "collapsed": false
   },
   "outputs": [],
   "source": [
    "df_city_pivot = df.pivot_table(index=['city','salary_scale'], aggfunc=sum, margins=True, values=['senior','data','scientist','engineer','engineering','python',' r ','geospatial','machine learning','developer','software','scala','analyst','quantitative','statistical','biotech','energy','stocks','research','big','platform','digital','marketing','media','financial','modeler','manager'])\n",
    "#df_city_pivot.columns = [''.join(col).strip() for col in df_city_pivot.columns.values]"
   ]
  },
  {
   "cell_type": "code",
   "execution_count": 1057,
   "metadata": {
    "collapsed": false,
    "scrolled": true
   },
   "outputs": [
    {
     "data": {
      "text/html": [
       "<div>\n",
       "<table border=\"1\" class=\"dataframe\">\n",
       "  <thead>\n",
       "    <tr style=\"text-align: right;\">\n",
       "      <th></th>\n",
       "      <th></th>\n",
       "      <th>r</th>\n",
       "      <th>analyst</th>\n",
       "      <th>big</th>\n",
       "      <th>biotech</th>\n",
       "      <th>data</th>\n",
       "      <th>developer</th>\n",
       "      <th>digital</th>\n",
       "      <th>energy</th>\n",
       "      <th>engineer</th>\n",
       "      <th>engineering</th>\n",
       "      <th>...</th>\n",
       "      <th>platform</th>\n",
       "      <th>python</th>\n",
       "      <th>quantitative</th>\n",
       "      <th>research</th>\n",
       "      <th>scala</th>\n",
       "      <th>scientist</th>\n",
       "      <th>senior</th>\n",
       "      <th>software</th>\n",
       "      <th>statistical</th>\n",
       "      <th>stocks</th>\n",
       "    </tr>\n",
       "    <tr>\n",
       "      <th>city</th>\n",
       "      <th>salary_scale</th>\n",
       "      <th></th>\n",
       "      <th></th>\n",
       "      <th></th>\n",
       "      <th></th>\n",
       "      <th></th>\n",
       "      <th></th>\n",
       "      <th></th>\n",
       "      <th></th>\n",
       "      <th></th>\n",
       "      <th></th>\n",
       "      <th></th>\n",
       "      <th></th>\n",
       "      <th></th>\n",
       "      <th></th>\n",
       "      <th></th>\n",
       "      <th></th>\n",
       "      <th></th>\n",
       "      <th></th>\n",
       "      <th></th>\n",
       "      <th></th>\n",
       "      <th></th>\n",
       "    </tr>\n",
       "  </thead>\n",
       "  <tbody>\n",
       "    <tr>\n",
       "      <th rowspan=\"2\" valign=\"top\">atlanta</th>\n",
       "      <th>0</th>\n",
       "      <td>0.0</td>\n",
       "      <td>5.0</td>\n",
       "      <td>0.0</td>\n",
       "      <td>0.0</td>\n",
       "      <td>2.0</td>\n",
       "      <td>0.0</td>\n",
       "      <td>0.0</td>\n",
       "      <td>0.0</td>\n",
       "      <td>1.0</td>\n",
       "      <td>0.0</td>\n",
       "      <td>...</td>\n",
       "      <td>0.0</td>\n",
       "      <td>0.0</td>\n",
       "      <td>0.0</td>\n",
       "      <td>7.0</td>\n",
       "      <td>0.0</td>\n",
       "      <td>2.0</td>\n",
       "      <td>0.0</td>\n",
       "      <td>0.0</td>\n",
       "      <td>1.0</td>\n",
       "      <td>0.0</td>\n",
       "    </tr>\n",
       "    <tr>\n",
       "      <th>1</th>\n",
       "      <td>0.0</td>\n",
       "      <td>0.0</td>\n",
       "      <td>0.0</td>\n",
       "      <td>0.0</td>\n",
       "      <td>2.0</td>\n",
       "      <td>1.0</td>\n",
       "      <td>0.0</td>\n",
       "      <td>0.0</td>\n",
       "      <td>0.0</td>\n",
       "      <td>0.0</td>\n",
       "      <td>...</td>\n",
       "      <td>0.0</td>\n",
       "      <td>0.0</td>\n",
       "      <td>0.0</td>\n",
       "      <td>0.0</td>\n",
       "      <td>0.0</td>\n",
       "      <td>2.0</td>\n",
       "      <td>0.0</td>\n",
       "      <td>0.0</td>\n",
       "      <td>1.0</td>\n",
       "      <td>0.0</td>\n",
       "    </tr>\n",
       "    <tr>\n",
       "      <th rowspan=\"2\" valign=\"top\">austin</th>\n",
       "      <th>0</th>\n",
       "      <td>0.0</td>\n",
       "      <td>2.0</td>\n",
       "      <td>0.0</td>\n",
       "      <td>0.0</td>\n",
       "      <td>0.0</td>\n",
       "      <td>0.0</td>\n",
       "      <td>0.0</td>\n",
       "      <td>0.0</td>\n",
       "      <td>1.0</td>\n",
       "      <td>0.0</td>\n",
       "      <td>...</td>\n",
       "      <td>0.0</td>\n",
       "      <td>0.0</td>\n",
       "      <td>0.0</td>\n",
       "      <td>2.0</td>\n",
       "      <td>0.0</td>\n",
       "      <td>0.0</td>\n",
       "      <td>0.0</td>\n",
       "      <td>1.0</td>\n",
       "      <td>0.0</td>\n",
       "      <td>0.0</td>\n",
       "    </tr>\n",
       "    <tr>\n",
       "      <th>1</th>\n",
       "      <td>0.0</td>\n",
       "      <td>0.0</td>\n",
       "      <td>0.0</td>\n",
       "      <td>0.0</td>\n",
       "      <td>3.0</td>\n",
       "      <td>0.0</td>\n",
       "      <td>0.0</td>\n",
       "      <td>0.0</td>\n",
       "      <td>0.0</td>\n",
       "      <td>0.0</td>\n",
       "      <td>...</td>\n",
       "      <td>0.0</td>\n",
       "      <td>0.0</td>\n",
       "      <td>0.0</td>\n",
       "      <td>0.0</td>\n",
       "      <td>0.0</td>\n",
       "      <td>3.0</td>\n",
       "      <td>1.0</td>\n",
       "      <td>0.0</td>\n",
       "      <td>0.0</td>\n",
       "      <td>0.0</td>\n",
       "    </tr>\n",
       "    <tr>\n",
       "      <th>boston</th>\n",
       "      <th>0</th>\n",
       "      <td>0.0</td>\n",
       "      <td>6.0</td>\n",
       "      <td>0.0</td>\n",
       "      <td>0.0</td>\n",
       "      <td>5.0</td>\n",
       "      <td>0.0</td>\n",
       "      <td>0.0</td>\n",
       "      <td>0.0</td>\n",
       "      <td>0.0</td>\n",
       "      <td>0.0</td>\n",
       "      <td>...</td>\n",
       "      <td>0.0</td>\n",
       "      <td>0.0</td>\n",
       "      <td>0.0</td>\n",
       "      <td>4.0</td>\n",
       "      <td>0.0</td>\n",
       "      <td>3.0</td>\n",
       "      <td>3.0</td>\n",
       "      <td>0.0</td>\n",
       "      <td>0.0</td>\n",
       "      <td>0.0</td>\n",
       "    </tr>\n",
       "  </tbody>\n",
       "</table>\n",
       "<p>5 rows × 27 columns</p>\n",
       "</div>"
      ],
      "text/plain": [
       "                       r   analyst  big  biotech  data  developer  digital  \\\n",
       "city    salary_scale                                                         \n",
       "atlanta 0             0.0      5.0  0.0      0.0   2.0        0.0      0.0   \n",
       "        1             0.0      0.0  0.0      0.0   2.0        1.0      0.0   \n",
       "austin  0             0.0      2.0  0.0      0.0   0.0        0.0      0.0   \n",
       "        1             0.0      0.0  0.0      0.0   3.0        0.0      0.0   \n",
       "boston  0             0.0      6.0  0.0      0.0   5.0        0.0      0.0   \n",
       "\n",
       "                      energy  engineer  engineering   ...    platform  python  \\\n",
       "city    salary_scale                                  ...                       \n",
       "atlanta 0                0.0       1.0          0.0   ...         0.0     0.0   \n",
       "        1                0.0       0.0          0.0   ...         0.0     0.0   \n",
       "austin  0                0.0       1.0          0.0   ...         0.0     0.0   \n",
       "        1                0.0       0.0          0.0   ...         0.0     0.0   \n",
       "boston  0                0.0       0.0          0.0   ...         0.0     0.0   \n",
       "\n",
       "                      quantitative  research  scala  scientist  senior  \\\n",
       "city    salary_scale                                                     \n",
       "atlanta 0                      0.0       7.0    0.0        2.0     0.0   \n",
       "        1                      0.0       0.0    0.0        2.0     0.0   \n",
       "austin  0                      0.0       2.0    0.0        0.0     0.0   \n",
       "        1                      0.0       0.0    0.0        3.0     1.0   \n",
       "boston  0                      0.0       4.0    0.0        3.0     3.0   \n",
       "\n",
       "                      software  statistical  stocks  \n",
       "city    salary_scale                                 \n",
       "atlanta 0                  0.0          1.0     0.0  \n",
       "        1                  0.0          1.0     0.0  \n",
       "austin  0                  1.0          0.0     0.0  \n",
       "        1                  0.0          0.0     0.0  \n",
       "boston  0                  0.0          0.0     0.0  \n",
       "\n",
       "[5 rows x 27 columns]"
      ]
     },
     "execution_count": 1057,
     "metadata": {},
     "output_type": "execute_result"
    }
   ],
   "source": [
    "df_city_pivot.head()"
   ]
  },
  {
   "cell_type": "markdown",
   "metadata": {},
   "source": [
    "# Merge both df (cities, keywords, salary_scale)"
   ]
  },
  {
   "cell_type": "code",
   "execution_count": 1064,
   "metadata": {
    "collapsed": true
   },
   "outputs": [],
   "source": [
    "df_group = pd.merge(left=df, right=df_cities, left_index=True, right_index=True, how='left' )"
   ]
  },
  {
   "cell_type": "code",
   "execution_count": 1065,
   "metadata": {
    "collapsed": false
   },
   "outputs": [],
   "source": [
    "df_group.drop('city', inplace=True, axis=1)\n",
    "df_group.drop('summary', inplace=True, axis=1)\n",
    "df_group.drop('title', inplace=True, axis=1)\n",
    "df_group.drop('parsed_salary', inplace=True, axis=1)"
   ]
  },
  {
   "cell_type": "code",
   "execution_count": 1066,
   "metadata": {
    "collapsed": false
   },
   "outputs": [
    {
     "name": "stdout",
     "output_type": "stream",
     "text": [
      "<class 'pandas.core.frame.DataFrame'>\n",
      "Int64Index: 406 entries, 0 to 412\n",
      "Data columns (total 46 columns):\n",
      "salary_scale        406 non-null int64\n",
      "senior              406 non-null int64\n",
      "data                406 non-null int64\n",
      "scientist           406 non-null int64\n",
      "engineer            406 non-null int64\n",
      "engineering         406 non-null int64\n",
      "python              406 non-null int64\n",
      " r                  406 non-null int64\n",
      "geospatial          406 non-null int64\n",
      "machine learning    406 non-null int64\n",
      "developer           406 non-null int64\n",
      "software            406 non-null int64\n",
      "scala               406 non-null int64\n",
      "analyst             406 non-null int64\n",
      "quantitative        406 non-null int64\n",
      "statistical         406 non-null int64\n",
      "biotech             406 non-null int64\n",
      "energy              406 non-null int64\n",
      "stocks              406 non-null int64\n",
      "research            406 non-null int64\n",
      "big                 406 non-null int64\n",
      "platform            406 non-null int64\n",
      "digital             406 non-null int64\n",
      "marketing           406 non-null int64\n",
      "media               406 non-null int64\n",
      "financial           406 non-null int64\n",
      "modeler             406 non-null int64\n",
      "manager             406 non-null int64\n",
      "atlanta             406 non-null int64\n",
      "austin              406 non-null int64\n",
      "boston              406 non-null int64\n",
      "chicago             406 non-null int64\n",
      "dallas              406 non-null int64\n",
      "denver              406 non-null int64\n",
      "houston             406 non-null int64\n",
      "los_angeles         406 non-null int64\n",
      "miami               406 non-null int64\n",
      "new_york            406 non-null int64\n",
      "palo_alto           406 non-null int64\n",
      "philadelphia        406 non-null int64\n",
      "phoenix             406 non-null int64\n",
      "pittsburgh          406 non-null int64\n",
      "portland            406 non-null int64\n",
      "san_diego           406 non-null int64\n",
      "san_francisco       406 non-null int64\n",
      "seattle             406 non-null int64\n",
      "dtypes: int64(46)\n",
      "memory usage: 149.1 KB\n"
     ]
    }
   ],
   "source": [
    "df_group.info()"
   ]
  },
  {
   "cell_type": "code",
   "execution_count": 1067,
   "metadata": {
    "collapsed": false
   },
   "outputs": [],
   "source": [
    "salary_group = df_group.groupby(by='salary_scale', as_index=False)\n",
    "salary_group = salary_group.agg({    'senior': [np.sum,np.mean,np.corrcoef],\n",
    "                                     'data': [np.sum,np.mean,np.corrcoef],\n",
    "                                     'scientist': [np.sum,np.mean,np.corrcoef],\n",
    "                                     'engineer': [np.sum,np.mean,np.corrcoef],\n",
    "                                     'engineering': [np.sum,np.mean,np.corrcoef],\n",
    "                                     'python': [np.sum,np.mean,np.corrcoef],\n",
    "                                     ' r ': [np.sum,np.mean,np.corrcoef],\n",
    "                                     'geospatial': [np.sum,np.mean,np.corrcoef],\n",
    "                                     'machine learning': [np.sum,np.mean,np.corrcoef],\n",
    "                                     'developer': [np.sum,np.mean,np.corrcoef],\n",
    "                                     'software': [np.sum,np.mean,np.corrcoef],\n",
    "                                     'scala': [np.sum,np.mean,np.corrcoef],\n",
    "                                     'analyst': [np.sum,np.mean,np.corrcoef],\n",
    "                                     'quantitative': [np.sum,np.mean,np.corrcoef],\n",
    "                                     'statistical': [np.sum,np.mean,np.corrcoef],\n",
    "                                     'biotech': [np.sum,np.mean,np.corrcoef],\n",
    "                                     'energy': [np.sum,np.mean,np.corrcoef],\n",
    "                                     'stocks': [np.sum,np.mean,np.corrcoef],\n",
    "                                     'research': [np.sum,np.mean,np.corrcoef],\n",
    "                                     'big': [np.sum,np.mean,np.corrcoef],\n",
    "                                     'platform': [np.sum,np.mean,np.corrcoef],\n",
    "                                     'digital': [np.sum,np.mean,np.corrcoef],\n",
    "                                     'marketing': [np.sum,np.mean,np.corrcoef],\n",
    "                                     'media': [np.sum,np.mean,np.corrcoef],\n",
    "                                     'financial': [np.sum,np.mean,np.corrcoef],\n",
    "                                     'modeler': [np.sum,np.mean,np.corrcoef],\n",
    "                                     'manager': [np.sum,np.mean,np.corrcoef],\n",
    "                                  })"
   ]
  },
  {
   "cell_type": "code",
   "execution_count": 1068,
   "metadata": {
    "collapsed": false
   },
   "outputs": [
    {
     "data": {
      "text/plain": [
       "(2, 82)"
      ]
     },
     "execution_count": 1068,
     "metadata": {},
     "output_type": "execute_result"
    }
   ],
   "source": [
    "salary_group.shape"
   ]
  },
  {
   "cell_type": "code",
   "execution_count": 1069,
   "metadata": {
    "collapsed": false,
    "scrolled": true
   },
   "outputs": [
    {
     "data": {
      "text/html": [
       "<div>\n",
       "<table border=\"1\" class=\"dataframe\">\n",
       "  <thead>\n",
       "    <tr style=\"text-align: right;\">\n",
       "      <th></th>\n",
       "      <th></th>\n",
       "      <th>0</th>\n",
       "      <th>1</th>\n",
       "    </tr>\n",
       "  </thead>\n",
       "  <tbody>\n",
       "    <tr>\n",
       "      <th>salary_scale</th>\n",
       "      <th></th>\n",
       "      <td>0.000000</td>\n",
       "      <td>1.000000</td>\n",
       "    </tr>\n",
       "    <tr>\n",
       "      <th rowspan=\"3\" valign=\"top\">biotech</th>\n",
       "      <th>sum</th>\n",
       "      <td>0.000000</td>\n",
       "      <td>1.000000</td>\n",
       "    </tr>\n",
       "    <tr>\n",
       "      <th>mean</th>\n",
       "      <td>0.000000</td>\n",
       "      <td>0.004785</td>\n",
       "    </tr>\n",
       "    <tr>\n",
       "      <th>corrcoef</th>\n",
       "      <td>NaN</td>\n",
       "      <td>1.000000</td>\n",
       "    </tr>\n",
       "    <tr>\n",
       "      <th rowspan=\"3\" valign=\"top\">financial</th>\n",
       "      <th>sum</th>\n",
       "      <td>3.000000</td>\n",
       "      <td>2.000000</td>\n",
       "    </tr>\n",
       "    <tr>\n",
       "      <th>mean</th>\n",
       "      <td>0.015228</td>\n",
       "      <td>0.009569</td>\n",
       "    </tr>\n",
       "    <tr>\n",
       "      <th>corrcoef</th>\n",
       "      <td>1.000000</td>\n",
       "      <td>1.000000</td>\n",
       "    </tr>\n",
       "    <tr>\n",
       "      <th rowspan=\"3\" valign=\"top\">energy</th>\n",
       "      <th>sum</th>\n",
       "      <td>0.000000</td>\n",
       "      <td>1.000000</td>\n",
       "    </tr>\n",
       "    <tr>\n",
       "      <th>mean</th>\n",
       "      <td>0.000000</td>\n",
       "      <td>0.004785</td>\n",
       "    </tr>\n",
       "    <tr>\n",
       "      <th>corrcoef</th>\n",
       "      <td>NaN</td>\n",
       "      <td>1.000000</td>\n",
       "    </tr>\n",
       "    <tr>\n",
       "      <th rowspan=\"3\" valign=\"top\">engineering</th>\n",
       "      <th>sum</th>\n",
       "      <td>1.000000</td>\n",
       "      <td>4.000000</td>\n",
       "    </tr>\n",
       "    <tr>\n",
       "      <th>mean</th>\n",
       "      <td>0.005076</td>\n",
       "      <td>0.019139</td>\n",
       "    </tr>\n",
       "    <tr>\n",
       "      <th>corrcoef</th>\n",
       "      <td>1.000000</td>\n",
       "      <td>1.000000</td>\n",
       "    </tr>\n",
       "    <tr>\n",
       "      <th rowspan=\"3\" valign=\"top\">scientist</th>\n",
       "      <th>sum</th>\n",
       "      <td>36.000000</td>\n",
       "      <td>116.000000</td>\n",
       "    </tr>\n",
       "    <tr>\n",
       "      <th>mean</th>\n",
       "      <td>0.182741</td>\n",
       "      <td>0.555024</td>\n",
       "    </tr>\n",
       "    <tr>\n",
       "      <th>corrcoef</th>\n",
       "      <td>1.000000</td>\n",
       "      <td>1.000000</td>\n",
       "    </tr>\n",
       "    <tr>\n",
       "      <th rowspan=\"3\" valign=\"top\">r</th>\n",
       "      <th>sum</th>\n",
       "      <td>1.000000</td>\n",
       "      <td>4.000000</td>\n",
       "    </tr>\n",
       "    <tr>\n",
       "      <th>mean</th>\n",
       "      <td>0.005076</td>\n",
       "      <td>0.019139</td>\n",
       "    </tr>\n",
       "    <tr>\n",
       "      <th>corrcoef</th>\n",
       "      <td>1.000000</td>\n",
       "      <td>1.000000</td>\n",
       "    </tr>\n",
       "    <tr>\n",
       "      <th rowspan=\"3\" valign=\"top\">statistical</th>\n",
       "      <th>sum</th>\n",
       "      <td>8.000000</td>\n",
       "      <td>5.000000</td>\n",
       "    </tr>\n",
       "    <tr>\n",
       "      <th>mean</th>\n",
       "      <td>0.040609</td>\n",
       "      <td>0.023923</td>\n",
       "    </tr>\n",
       "    <tr>\n",
       "      <th>corrcoef</th>\n",
       "      <td>1.000000</td>\n",
       "      <td>1.000000</td>\n",
       "    </tr>\n",
       "    <tr>\n",
       "      <th rowspan=\"3\" valign=\"top\">developer</th>\n",
       "      <th>sum</th>\n",
       "      <td>1.000000</td>\n",
       "      <td>10.000000</td>\n",
       "    </tr>\n",
       "    <tr>\n",
       "      <th>mean</th>\n",
       "      <td>0.005076</td>\n",
       "      <td>0.047847</td>\n",
       "    </tr>\n",
       "    <tr>\n",
       "      <th>corrcoef</th>\n",
       "      <td>1.000000</td>\n",
       "      <td>1.000000</td>\n",
       "    </tr>\n",
       "    <tr>\n",
       "      <th rowspan=\"3\" valign=\"top\">scala</th>\n",
       "      <th>sum</th>\n",
       "      <td>0.000000</td>\n",
       "      <td>1.000000</td>\n",
       "    </tr>\n",
       "    <tr>\n",
       "      <th>mean</th>\n",
       "      <td>0.000000</td>\n",
       "      <td>0.004785</td>\n",
       "    </tr>\n",
       "    <tr>\n",
       "      <th>corrcoef</th>\n",
       "      <td>NaN</td>\n",
       "      <td>1.000000</td>\n",
       "    </tr>\n",
       "    <tr>\n",
       "      <th rowspan=\"2\" valign=\"top\">media</th>\n",
       "      <th>sum</th>\n",
       "      <td>0.000000</td>\n",
       "      <td>1.000000</td>\n",
       "    </tr>\n",
       "    <tr>\n",
       "      <th>mean</th>\n",
       "      <td>0.000000</td>\n",
       "      <td>0.004785</td>\n",
       "    </tr>\n",
       "    <tr>\n",
       "      <th>...</th>\n",
       "      <th>...</th>\n",
       "      <td>...</td>\n",
       "      <td>...</td>\n",
       "    </tr>\n",
       "    <tr>\n",
       "      <th rowspan=\"3\" valign=\"top\">stocks</th>\n",
       "      <th>sum</th>\n",
       "      <td>0.000000</td>\n",
       "      <td>1.000000</td>\n",
       "    </tr>\n",
       "    <tr>\n",
       "      <th>mean</th>\n",
       "      <td>0.000000</td>\n",
       "      <td>0.004785</td>\n",
       "    </tr>\n",
       "    <tr>\n",
       "      <th>corrcoef</th>\n",
       "      <td>NaN</td>\n",
       "      <td>1.000000</td>\n",
       "    </tr>\n",
       "    <tr>\n",
       "      <th rowspan=\"3\" valign=\"top\">data</th>\n",
       "      <th>sum</th>\n",
       "      <td>40.000000</td>\n",
       "      <td>121.000000</td>\n",
       "    </tr>\n",
       "    <tr>\n",
       "      <th>mean</th>\n",
       "      <td>0.203046</td>\n",
       "      <td>0.578947</td>\n",
       "    </tr>\n",
       "    <tr>\n",
       "      <th>corrcoef</th>\n",
       "      <td>1.000000</td>\n",
       "      <td>1.000000</td>\n",
       "    </tr>\n",
       "    <tr>\n",
       "      <th rowspan=\"3\" valign=\"top\">analyst</th>\n",
       "      <th>sum</th>\n",
       "      <td>63.000000</td>\n",
       "      <td>22.000000</td>\n",
       "    </tr>\n",
       "    <tr>\n",
       "      <th>mean</th>\n",
       "      <td>0.319797</td>\n",
       "      <td>0.105263</td>\n",
       "    </tr>\n",
       "    <tr>\n",
       "      <th>corrcoef</th>\n",
       "      <td>1.000000</td>\n",
       "      <td>1.000000</td>\n",
       "    </tr>\n",
       "    <tr>\n",
       "      <th rowspan=\"3\" valign=\"top\">manager</th>\n",
       "      <th>sum</th>\n",
       "      <td>15.000000</td>\n",
       "      <td>10.000000</td>\n",
       "    </tr>\n",
       "    <tr>\n",
       "      <th>mean</th>\n",
       "      <td>0.076142</td>\n",
       "      <td>0.047847</td>\n",
       "    </tr>\n",
       "    <tr>\n",
       "      <th>corrcoef</th>\n",
       "      <td>1.000000</td>\n",
       "      <td>1.000000</td>\n",
       "    </tr>\n",
       "    <tr>\n",
       "      <th rowspan=\"3\" valign=\"top\">machine learning</th>\n",
       "      <th>sum</th>\n",
       "      <td>7.000000</td>\n",
       "      <td>18.000000</td>\n",
       "    </tr>\n",
       "    <tr>\n",
       "      <th>mean</th>\n",
       "      <td>0.035533</td>\n",
       "      <td>0.086124</td>\n",
       "    </tr>\n",
       "    <tr>\n",
       "      <th>corrcoef</th>\n",
       "      <td>1.000000</td>\n",
       "      <td>1.000000</td>\n",
       "    </tr>\n",
       "    <tr>\n",
       "      <th rowspan=\"3\" valign=\"top\">geospatial</th>\n",
       "      <th>sum</th>\n",
       "      <td>0.000000</td>\n",
       "      <td>1.000000</td>\n",
       "    </tr>\n",
       "    <tr>\n",
       "      <th>mean</th>\n",
       "      <td>0.000000</td>\n",
       "      <td>0.004785</td>\n",
       "    </tr>\n",
       "    <tr>\n",
       "      <th>corrcoef</th>\n",
       "      <td>NaN</td>\n",
       "      <td>1.000000</td>\n",
       "    </tr>\n",
       "    <tr>\n",
       "      <th rowspan=\"3\" valign=\"top\">quantitative</th>\n",
       "      <th>sum</th>\n",
       "      <td>1.000000</td>\n",
       "      <td>14.000000</td>\n",
       "    </tr>\n",
       "    <tr>\n",
       "      <th>mean</th>\n",
       "      <td>0.005076</td>\n",
       "      <td>0.066986</td>\n",
       "    </tr>\n",
       "    <tr>\n",
       "      <th>corrcoef</th>\n",
       "      <td>1.000000</td>\n",
       "      <td>1.000000</td>\n",
       "    </tr>\n",
       "    <tr>\n",
       "      <th rowspan=\"3\" valign=\"top\">senior</th>\n",
       "      <th>sum</th>\n",
       "      <td>16.000000</td>\n",
       "      <td>42.000000</td>\n",
       "    </tr>\n",
       "    <tr>\n",
       "      <th>mean</th>\n",
       "      <td>0.081218</td>\n",
       "      <td>0.200957</td>\n",
       "    </tr>\n",
       "    <tr>\n",
       "      <th>corrcoef</th>\n",
       "      <td>1.000000</td>\n",
       "      <td>1.000000</td>\n",
       "    </tr>\n",
       "    <tr>\n",
       "      <th rowspan=\"3\" valign=\"top\">modeler</th>\n",
       "      <th>sum</th>\n",
       "      <td>1.000000</td>\n",
       "      <td>2.000000</td>\n",
       "    </tr>\n",
       "    <tr>\n",
       "      <th>mean</th>\n",
       "      <td>0.005076</td>\n",
       "      <td>0.009569</td>\n",
       "    </tr>\n",
       "    <tr>\n",
       "      <th>corrcoef</th>\n",
       "      <td>1.000000</td>\n",
       "      <td>1.000000</td>\n",
       "    </tr>\n",
       "    <tr>\n",
       "      <th rowspan=\"3\" valign=\"top\">software</th>\n",
       "      <th>sum</th>\n",
       "      <td>7.000000</td>\n",
       "      <td>13.000000</td>\n",
       "    </tr>\n",
       "    <tr>\n",
       "      <th>mean</th>\n",
       "      <td>0.035533</td>\n",
       "      <td>0.062201</td>\n",
       "    </tr>\n",
       "    <tr>\n",
       "      <th>corrcoef</th>\n",
       "      <td>1.000000</td>\n",
       "      <td>1.000000</td>\n",
       "    </tr>\n",
       "  </tbody>\n",
       "</table>\n",
       "<p>82 rows × 2 columns</p>\n",
       "</div>"
      ],
      "text/plain": [
       "                                   0           1\n",
       "salary_scale                0.000000    1.000000\n",
       "biotech          sum        0.000000    1.000000\n",
       "                 mean       0.000000    0.004785\n",
       "                 corrcoef        NaN    1.000000\n",
       "financial        sum        3.000000    2.000000\n",
       "                 mean       0.015228    0.009569\n",
       "                 corrcoef   1.000000    1.000000\n",
       "energy           sum        0.000000    1.000000\n",
       "                 mean       0.000000    0.004785\n",
       "                 corrcoef        NaN    1.000000\n",
       "engineering      sum        1.000000    4.000000\n",
       "                 mean       0.005076    0.019139\n",
       "                 corrcoef   1.000000    1.000000\n",
       "scientist        sum       36.000000  116.000000\n",
       "                 mean       0.182741    0.555024\n",
       "                 corrcoef   1.000000    1.000000\n",
       " r               sum        1.000000    4.000000\n",
       "                 mean       0.005076    0.019139\n",
       "                 corrcoef   1.000000    1.000000\n",
       "statistical      sum        8.000000    5.000000\n",
       "                 mean       0.040609    0.023923\n",
       "                 corrcoef   1.000000    1.000000\n",
       "developer        sum        1.000000   10.000000\n",
       "                 mean       0.005076    0.047847\n",
       "                 corrcoef   1.000000    1.000000\n",
       "scala            sum        0.000000    1.000000\n",
       "                 mean       0.000000    0.004785\n",
       "                 corrcoef        NaN    1.000000\n",
       "media            sum        0.000000    1.000000\n",
       "                 mean       0.000000    0.004785\n",
       "...                              ...         ...\n",
       "stocks           sum        0.000000    1.000000\n",
       "                 mean       0.000000    0.004785\n",
       "                 corrcoef        NaN    1.000000\n",
       "data             sum       40.000000  121.000000\n",
       "                 mean       0.203046    0.578947\n",
       "                 corrcoef   1.000000    1.000000\n",
       "analyst          sum       63.000000   22.000000\n",
       "                 mean       0.319797    0.105263\n",
       "                 corrcoef   1.000000    1.000000\n",
       "manager          sum       15.000000   10.000000\n",
       "                 mean       0.076142    0.047847\n",
       "                 corrcoef   1.000000    1.000000\n",
       "machine learning sum        7.000000   18.000000\n",
       "                 mean       0.035533    0.086124\n",
       "                 corrcoef   1.000000    1.000000\n",
       "geospatial       sum        0.000000    1.000000\n",
       "                 mean       0.000000    0.004785\n",
       "                 corrcoef        NaN    1.000000\n",
       "quantitative     sum        1.000000   14.000000\n",
       "                 mean       0.005076    0.066986\n",
       "                 corrcoef   1.000000    1.000000\n",
       "senior           sum       16.000000   42.000000\n",
       "                 mean       0.081218    0.200957\n",
       "                 corrcoef   1.000000    1.000000\n",
       "modeler          sum        1.000000    2.000000\n",
       "                 mean       0.005076    0.009569\n",
       "                 corrcoef   1.000000    1.000000\n",
       "software         sum        7.000000   13.000000\n",
       "                 mean       0.035533    0.062201\n",
       "                 corrcoef   1.000000    1.000000\n",
       "\n",
       "[82 rows x 2 columns]"
      ]
     },
     "execution_count": 1069,
     "metadata": {},
     "output_type": "execute_result"
    }
   ],
   "source": [
    "salary_group.transpose()"
   ]
  },
  {
   "cell_type": "markdown",
   "metadata": {},
   "source": [
    "## Create two dataframes for cities and title features"
   ]
  },
  {
   "cell_type": "code",
   "execution_count": 404,
   "metadata": {
    "collapsed": false
   },
   "outputs": [],
   "source": [
    "# String dataframe for cities\n",
    "df_city = df.city"
   ]
  },
  {
   "cell_type": "code",
   "execution_count": 852,
   "metadata": {
    "collapsed": false,
    "scrolled": true
   },
   "outputs": [
    {
     "data": {
      "text/html": [
       "<div>\n",
       "<table border=\"1\" class=\"dataframe\">\n",
       "  <thead>\n",
       "    <tr style=\"text-align: right;\">\n",
       "      <th></th>\n",
       "      <th>atlanta</th>\n",
       "      <th>austin</th>\n",
       "      <th>boston</th>\n",
       "      <th>chicago</th>\n",
       "      <th>dallas</th>\n",
       "      <th>denver</th>\n",
       "      <th>houston</th>\n",
       "      <th>los_angeles</th>\n",
       "      <th>miami</th>\n",
       "      <th>new_york</th>\n",
       "      <th>palo_alto</th>\n",
       "      <th>philadelphia</th>\n",
       "      <th>phoenix</th>\n",
       "      <th>pittsburgh</th>\n",
       "      <th>portland</th>\n",
       "      <th>san_diego</th>\n",
       "      <th>san_francisco</th>\n",
       "      <th>seattle</th>\n",
       "    </tr>\n",
       "  </thead>\n",
       "  <tbody>\n",
       "    <tr>\n",
       "      <th>0</th>\n",
       "      <td>0</td>\n",
       "      <td>0</td>\n",
       "      <td>0</td>\n",
       "      <td>0</td>\n",
       "      <td>0</td>\n",
       "      <td>1</td>\n",
       "      <td>0</td>\n",
       "      <td>0</td>\n",
       "      <td>0</td>\n",
       "      <td>0</td>\n",
       "      <td>0</td>\n",
       "      <td>0</td>\n",
       "      <td>0</td>\n",
       "      <td>0</td>\n",
       "      <td>0</td>\n",
       "      <td>0</td>\n",
       "      <td>0</td>\n",
       "      <td>0</td>\n",
       "    </tr>\n",
       "    <tr>\n",
       "      <th>1</th>\n",
       "      <td>0</td>\n",
       "      <td>0</td>\n",
       "      <td>0</td>\n",
       "      <td>0</td>\n",
       "      <td>0</td>\n",
       "      <td>1</td>\n",
       "      <td>0</td>\n",
       "      <td>0</td>\n",
       "      <td>0</td>\n",
       "      <td>0</td>\n",
       "      <td>0</td>\n",
       "      <td>0</td>\n",
       "      <td>0</td>\n",
       "      <td>0</td>\n",
       "      <td>0</td>\n",
       "      <td>0</td>\n",
       "      <td>0</td>\n",
       "      <td>0</td>\n",
       "    </tr>\n",
       "  </tbody>\n",
       "</table>\n",
       "</div>"
      ],
      "text/plain": [
       "   atlanta  austin  boston  chicago  dallas  denver  houston  los_angeles  \\\n",
       "0        0       0       0        0       0       1        0            0   \n",
       "1        0       0       0        0       0       1        0            0   \n",
       "\n",
       "   miami  new_york  palo_alto  philadelphia  phoenix  pittsburgh  portland  \\\n",
       "0      0         0          0             0        0           0         0   \n",
       "1      0         0          0             0        0           0         0   \n",
       "\n",
       "   san_diego  san_francisco  seattle  \n",
       "0          0              0        0  \n",
       "1          0              0        0  "
      ]
     },
     "execution_count": 852,
     "metadata": {},
     "output_type": "execute_result"
    }
   ],
   "source": [
    "df_cities.head(2)"
   ]
  },
  {
   "cell_type": "code",
   "execution_count": 988,
   "metadata": {
    "collapsed": false,
    "scrolled": false
   },
   "outputs": [
    {
     "data": {
      "text/html": [
       "<div>\n",
       "<table border=\"1\" class=\"dataframe\">\n",
       "  <thead>\n",
       "    <tr style=\"text-align: right;\">\n",
       "      <th></th>\n",
       "      <th>city</th>\n",
       "      <th>salary_scale</th>\n",
       "      <th>senior</th>\n",
       "      <th>data</th>\n",
       "      <th>scientist</th>\n",
       "      <th>engineer</th>\n",
       "      <th>engineering</th>\n",
       "      <th>python</th>\n",
       "      <th>r</th>\n",
       "      <th>geospatial</th>\n",
       "      <th>...</th>\n",
       "      <th>energy</th>\n",
       "      <th>stocks</th>\n",
       "      <th>research</th>\n",
       "      <th>big</th>\n",
       "      <th>platform</th>\n",
       "      <th>digital</th>\n",
       "      <th>marketing</th>\n",
       "      <th>media</th>\n",
       "      <th>financial</th>\n",
       "      <th>modeler</th>\n",
       "    </tr>\n",
       "  </thead>\n",
       "  <tbody>\n",
       "    <tr>\n",
       "      <th>0</th>\n",
       "      <td>denver</td>\n",
       "      <td>0</td>\n",
       "      <td>0</td>\n",
       "      <td>0</td>\n",
       "      <td>0</td>\n",
       "      <td>0</td>\n",
       "      <td>0</td>\n",
       "      <td>0</td>\n",
       "      <td>0</td>\n",
       "      <td>0</td>\n",
       "      <td>...</td>\n",
       "      <td>0</td>\n",
       "      <td>0</td>\n",
       "      <td>0</td>\n",
       "      <td>0</td>\n",
       "      <td>0</td>\n",
       "      <td>0</td>\n",
       "      <td>0</td>\n",
       "      <td>0</td>\n",
       "      <td>0</td>\n",
       "      <td>0</td>\n",
       "    </tr>\n",
       "    <tr>\n",
       "      <th>1</th>\n",
       "      <td>denver</td>\n",
       "      <td>0</td>\n",
       "      <td>0</td>\n",
       "      <td>0</td>\n",
       "      <td>0</td>\n",
       "      <td>0</td>\n",
       "      <td>0</td>\n",
       "      <td>0</td>\n",
       "      <td>0</td>\n",
       "      <td>0</td>\n",
       "      <td>...</td>\n",
       "      <td>0</td>\n",
       "      <td>0</td>\n",
       "      <td>0</td>\n",
       "      <td>0</td>\n",
       "      <td>0</td>\n",
       "      <td>0</td>\n",
       "      <td>0</td>\n",
       "      <td>0</td>\n",
       "      <td>0</td>\n",
       "      <td>0</td>\n",
       "    </tr>\n",
       "  </tbody>\n",
       "</table>\n",
       "<p>2 rows × 28 columns</p>\n",
       "</div>"
      ],
      "text/plain": [
       "     city  salary_scale  senior  data  scientist  engineer  engineering  \\\n",
       "0  denver             0       0     0          0         0            0   \n",
       "1  denver             0       0     0          0         0            0   \n",
       "\n",
       "   python   r   geospatial   ...     energy  stocks  research  big  platform  \\\n",
       "0       0    0           0   ...          0       0         0    0         0   \n",
       "1       0    0           0   ...          0       0         0    0         0   \n",
       "\n",
       "   digital  marketing  media  financial  modeler  \n",
       "0        0          0      0          0        0  \n",
       "1        0          0      0          0        0  \n",
       "\n",
       "[2 rows x 28 columns]"
      ]
     },
     "execution_count": 988,
     "metadata": {},
     "output_type": "execute_result"
    }
   ],
   "source": [
    "df_titles.head(2)"
   ]
  },
  {
   "cell_type": "code",
   "execution_count": 927,
   "metadata": {
    "collapsed": false
   },
   "outputs": [],
   "source": [
    "salary_scale = pd.DataFrame(salary_scale)"
   ]
  },
  {
   "cell_type": "code",
   "execution_count": 928,
   "metadata": {
    "collapsed": false,
    "scrolled": true
   },
   "outputs": [],
   "source": [
    "df_cities_salary = pd.merge(left=salary_scale, right=df_cities, left_index=True, right_index=True, how='left' )"
   ]
  },
  {
   "cell_type": "code",
   "execution_count": 994,
   "metadata": {
    "collapsed": false
   },
   "outputs": [
    {
     "data": {
      "text/html": [
       "<div>\n",
       "<table border=\"1\" class=\"dataframe\">\n",
       "  <thead>\n",
       "    <tr style=\"text-align: right;\">\n",
       "      <th></th>\n",
       "      <th>salary_scale</th>\n",
       "      <th>atlanta</th>\n",
       "      <th>austin</th>\n",
       "      <th>boston</th>\n",
       "      <th>chicago</th>\n",
       "      <th>dallas</th>\n",
       "      <th>denver</th>\n",
       "      <th>houston</th>\n",
       "      <th>los_angeles</th>\n",
       "      <th>miami</th>\n",
       "      <th>new_york</th>\n",
       "      <th>palo_alto</th>\n",
       "      <th>philadelphia</th>\n",
       "      <th>phoenix</th>\n",
       "      <th>pittsburgh</th>\n",
       "      <th>portland</th>\n",
       "      <th>san_diego</th>\n",
       "      <th>san_francisco</th>\n",
       "      <th>seattle</th>\n",
       "    </tr>\n",
       "  </thead>\n",
       "  <tbody>\n",
       "    <tr>\n",
       "      <th>0</th>\n",
       "      <td>0</td>\n",
       "      <td>0</td>\n",
       "      <td>0</td>\n",
       "      <td>0</td>\n",
       "      <td>0</td>\n",
       "      <td>0</td>\n",
       "      <td>1</td>\n",
       "      <td>0</td>\n",
       "      <td>0</td>\n",
       "      <td>0</td>\n",
       "      <td>0</td>\n",
       "      <td>0</td>\n",
       "      <td>0</td>\n",
       "      <td>0</td>\n",
       "      <td>0</td>\n",
       "      <td>0</td>\n",
       "      <td>0</td>\n",
       "      <td>0</td>\n",
       "      <td>0</td>\n",
       "    </tr>\n",
       "    <tr>\n",
       "      <th>1</th>\n",
       "      <td>0</td>\n",
       "      <td>0</td>\n",
       "      <td>0</td>\n",
       "      <td>0</td>\n",
       "      <td>0</td>\n",
       "      <td>0</td>\n",
       "      <td>1</td>\n",
       "      <td>0</td>\n",
       "      <td>0</td>\n",
       "      <td>0</td>\n",
       "      <td>0</td>\n",
       "      <td>0</td>\n",
       "      <td>0</td>\n",
       "      <td>0</td>\n",
       "      <td>0</td>\n",
       "      <td>0</td>\n",
       "      <td>0</td>\n",
       "      <td>0</td>\n",
       "      <td>0</td>\n",
       "    </tr>\n",
       "  </tbody>\n",
       "</table>\n",
       "</div>"
      ],
      "text/plain": [
       "   salary_scale  atlanta  austin  boston  chicago  dallas  denver  houston  \\\n",
       "0             0        0       0       0        0       0       1        0   \n",
       "1             0        0       0       0        0       0       1        0   \n",
       "\n",
       "   los_angeles  miami  new_york  palo_alto  philadelphia  phoenix  pittsburgh  \\\n",
       "0            0      0         0          0             0        0           0   \n",
       "1            0      0         0          0             0        0           0   \n",
       "\n",
       "   portland  san_diego  san_francisco  seattle  \n",
       "0         0          0              0        0  \n",
       "1         0          0              0        0  "
      ]
     },
     "execution_count": 994,
     "metadata": {},
     "output_type": "execute_result"
    }
   ],
   "source": [
    "df_cities_salary.head(2)"
   ]
  },
  {
   "cell_type": "code",
   "execution_count": 1070,
   "metadata": {
    "collapsed": true
   },
   "outputs": [],
   "source": [
    "df_titles_salary = df_titles[:]"
   ]
  },
  {
   "cell_type": "code",
   "execution_count": 1072,
   "metadata": {
    "collapsed": false,
    "scrolled": true
   },
   "outputs": [],
   "source": [
    "df_titles_salary.drop('city', inplace=True, axis=1)"
   ]
  },
  {
   "cell_type": "code",
   "execution_count": 1073,
   "metadata": {
    "collapsed": false,
    "scrolled": false
   },
   "outputs": [
    {
     "data": {
      "text/html": [
       "<div>\n",
       "<table border=\"1\" class=\"dataframe\">\n",
       "  <thead>\n",
       "    <tr style=\"text-align: right;\">\n",
       "      <th></th>\n",
       "      <th>salary_scale</th>\n",
       "      <th>senior</th>\n",
       "      <th>data</th>\n",
       "      <th>scientist</th>\n",
       "      <th>engineer</th>\n",
       "      <th>engineering</th>\n",
       "      <th>python</th>\n",
       "      <th>r</th>\n",
       "      <th>geospatial</th>\n",
       "      <th>machine learning</th>\n",
       "      <th>...</th>\n",
       "      <th>stocks</th>\n",
       "      <th>research</th>\n",
       "      <th>big</th>\n",
       "      <th>platform</th>\n",
       "      <th>digital</th>\n",
       "      <th>marketing</th>\n",
       "      <th>media</th>\n",
       "      <th>financial</th>\n",
       "      <th>modeler</th>\n",
       "      <th>manager</th>\n",
       "    </tr>\n",
       "  </thead>\n",
       "  <tbody>\n",
       "    <tr>\n",
       "      <th>0</th>\n",
       "      <td>0</td>\n",
       "      <td>0</td>\n",
       "      <td>0</td>\n",
       "      <td>0</td>\n",
       "      <td>0</td>\n",
       "      <td>0</td>\n",
       "      <td>0</td>\n",
       "      <td>0</td>\n",
       "      <td>0</td>\n",
       "      <td>0</td>\n",
       "      <td>...</td>\n",
       "      <td>0</td>\n",
       "      <td>0</td>\n",
       "      <td>0</td>\n",
       "      <td>0</td>\n",
       "      <td>0</td>\n",
       "      <td>0</td>\n",
       "      <td>0</td>\n",
       "      <td>0</td>\n",
       "      <td>0</td>\n",
       "      <td>0</td>\n",
       "    </tr>\n",
       "    <tr>\n",
       "      <th>1</th>\n",
       "      <td>0</td>\n",
       "      <td>0</td>\n",
       "      <td>0</td>\n",
       "      <td>0</td>\n",
       "      <td>0</td>\n",
       "      <td>0</td>\n",
       "      <td>0</td>\n",
       "      <td>0</td>\n",
       "      <td>0</td>\n",
       "      <td>0</td>\n",
       "      <td>...</td>\n",
       "      <td>0</td>\n",
       "      <td>0</td>\n",
       "      <td>0</td>\n",
       "      <td>0</td>\n",
       "      <td>0</td>\n",
       "      <td>0</td>\n",
       "      <td>0</td>\n",
       "      <td>0</td>\n",
       "      <td>0</td>\n",
       "      <td>0</td>\n",
       "    </tr>\n",
       "  </tbody>\n",
       "</table>\n",
       "<p>2 rows × 28 columns</p>\n",
       "</div>"
      ],
      "text/plain": [
       "   salary_scale  senior  data  scientist  engineer  engineering  python   r   \\\n",
       "0             0       0     0          0         0            0       0    0   \n",
       "1             0       0     0          0         0            0       0    0   \n",
       "\n",
       "   geospatial  machine learning   ...     stocks  research  big  platform  \\\n",
       "0           0                 0   ...          0         0    0         0   \n",
       "1           0                 0   ...          0         0    0         0   \n",
       "\n",
       "   digital  marketing  media  financial  modeler  manager  \n",
       "0        0          0      0          0        0        0  \n",
       "1        0          0      0          0        0        0  \n",
       "\n",
       "[2 rows x 28 columns]"
      ]
     },
     "execution_count": 1073,
     "metadata": {},
     "output_type": "execute_result"
    }
   ],
   "source": [
    "df_titles_salary.head(2)"
   ]
  },
  {
   "cell_type": "markdown",
   "metadata": {
    "focus": false,
    "id": "04563b69-f7b6-466f-9d65-fc62c9ddee6a"
   },
   "source": [
    "## Predicting salaries using Logistic Regression"
   ]
  },
  {
   "cell_type": "markdown",
   "metadata": {
    "focus": false,
    "id": "4fb29de2-5b98-474c-a4ad-5170b72b9aea"
   },
   "source": [
    "#### Create a Logistic Regression model to predict High/Low salary using statsmodel. Start by ONLY using the location as a feature. Display the coefficients and write a short summary of what they mean."
   ]
  },
  {
   "cell_type": "code",
   "execution_count": 1035,
   "metadata": {
    "collapsed": false
   },
   "outputs": [
    {
     "name": "stdout",
     "output_type": "stream",
     "text": [
      "Warning: Maximum number of iterations has been exceeded.\n",
      "         Current function value: 0.583198\n",
      "         Iterations: 35\n"
     ]
    },
    {
     "name": "stderr",
     "output_type": "stream",
     "text": [
      "/Users/toddmoffett1/anaconda/envs/py27/lib/python2.7/site-packages/statsmodels/base/model.py:466: ConvergenceWarning: Maximum Likelihood optimization failed to converge. Check mle_retvals\n",
      "  \"Check mle_retvals\", ConvergenceWarning)\n"
     ]
    },
    {
     "data": {
      "text/html": [
       "<table class=\"simpletable\">\n",
       "<caption>Logit Regression Results</caption>\n",
       "<tr>\n",
       "  <th>Dep. Variable:</th>   <td>salary_scale</td>   <th>  No. Observations:  </th>  <td>   406</td>  \n",
       "</tr>\n",
       "<tr>\n",
       "  <th>Model:</th>               <td>Logit</td>      <th>  Df Residuals:      </th>  <td>   388</td>  \n",
       "</tr>\n",
       "<tr>\n",
       "  <th>Method:</th>               <td>MLE</td>       <th>  Df Model:          </th>  <td>    17</td>  \n",
       "</tr>\n",
       "<tr>\n",
       "  <th>Date:</th>          <td>Mon, 16 Jan 2017</td> <th>  Pseudo R-squ.:     </th>  <td>0.1581</td>  \n",
       "</tr>\n",
       "<tr>\n",
       "  <th>Time:</th>              <td>11:30:22</td>     <th>  Log-Likelihood:    </th> <td> -236.78</td> \n",
       "</tr>\n",
       "<tr>\n",
       "  <th>converged:</th>           <td>False</td>      <th>  LL-Null:           </th> <td> -281.24</td> \n",
       "</tr>\n",
       "<tr>\n",
       "  <th> </th>                      <td> </td>        <th>  LLR p-value:       </th> <td>9.573e-12</td>\n",
       "</tr>\n",
       "</table>\n",
       "<table class=\"simpletable\">\n",
       "<tr>\n",
       "            <td></td>               <th>coef</th>     <th>std err</th>      <th>z</th>      <th>P>|z|</th> <th>[95.0% Conf. Int.]</th> \n",
       "</tr>\n",
       "<tr>\n",
       "  <th>Intercept</th>             <td>   -1.0296</td> <td>    0.521</td> <td>   -1.976</td> <td> 0.048</td> <td>   -2.051    -0.009</td>\n",
       "</tr>\n",
       "<tr>\n",
       "  <th>city[T.austin]</th>        <td>    0.7419</td> <td>    0.925</td> <td>    0.802</td> <td> 0.422</td> <td>   -1.070     2.554</td>\n",
       "</tr>\n",
       "<tr>\n",
       "  <th>city[T.boston]</th>        <td>    1.9910</td> <td>    0.615</td> <td>    3.239</td> <td> 0.001</td> <td>    0.786     3.196</td>\n",
       "</tr>\n",
       "<tr>\n",
       "  <th>city[T.chicago]</th>       <td>    1.2660</td> <td>    0.625</td> <td>    2.025</td> <td> 0.043</td> <td>    0.041     2.491</td>\n",
       "</tr>\n",
       "<tr>\n",
       "  <th>city[T.dallas]</th>        <td>    0.6931</td> <td>    0.784</td> <td>    0.884</td> <td> 0.376</td> <td>   -0.843     2.229</td>\n",
       "</tr>\n",
       "<tr>\n",
       "  <th>city[T.denver]</th>        <td>   -0.5108</td> <td>    0.822</td> <td>   -0.621</td> <td> 0.534</td> <td>   -2.123     1.101</td>\n",
       "</tr>\n",
       "<tr>\n",
       "  <th>city[T.houston]</th>       <td>  -12.9611</td> <td>  363.855</td> <td>   -0.036</td> <td> 0.972</td> <td> -726.103   700.181</td>\n",
       "</tr>\n",
       "<tr>\n",
       "  <th>city[T.los_angeles]</th>   <td>    1.1166</td> <td>    0.668</td> <td>    1.673</td> <td> 0.094</td> <td>   -0.192     2.425</td>\n",
       "</tr>\n",
       "<tr>\n",
       "  <th>city[T.miami]</th>         <td>    0.3365</td> <td>    1.011</td> <td>    0.333</td> <td> 0.739</td> <td>   -1.644     2.317</td>\n",
       "</tr>\n",
       "<tr>\n",
       "  <th>city[T.new_york]</th>      <td>    0.8329</td> <td>    0.558</td> <td>    1.493</td> <td> 0.135</td> <td>   -0.260     1.926</td>\n",
       "</tr>\n",
       "<tr>\n",
       "  <th>city[T.palo_alto]</th>     <td>    2.0794</td> <td>    0.681</td> <td>    3.052</td> <td> 0.002</td> <td>    0.744     3.415</td>\n",
       "</tr>\n",
       "<tr>\n",
       "  <th>city[T.philadelphia]</th>  <td>    1.5892</td> <td>    0.815</td> <td>    1.950</td> <td> 0.051</td> <td>   -0.008     3.187</td>\n",
       "</tr>\n",
       "<tr>\n",
       "  <th>city[T.phoenix]</th>       <td>  -23.4222</td> <td> 8.33e+04</td> <td>   -0.000</td> <td> 1.000</td> <td>-1.63e+05  1.63e+05</td>\n",
       "</tr>\n",
       "<tr>\n",
       "  <th>city[T.pittsburgh]</th>    <td>  -12.9611</td> <td>  363.855</td> <td>   -0.036</td> <td> 0.972</td> <td> -726.103   700.181</td>\n",
       "</tr>\n",
       "<tr>\n",
       "  <th>city[T.portland]</th>      <td>  -17.5078</td> <td> 1.06e+04</td> <td>   -0.002</td> <td> 0.999</td> <td>-2.08e+04  2.08e+04</td>\n",
       "</tr>\n",
       "<tr>\n",
       "  <th>city[T.san_diego]</th>     <td>    0.6242</td> <td>    0.830</td> <td>    0.752</td> <td> 0.452</td> <td>   -1.002     2.250</td>\n",
       "</tr>\n",
       "<tr>\n",
       "  <th>city[T.san_francisco]</th> <td>    2.6137</td> <td>    0.650</td> <td>    4.023</td> <td> 0.000</td> <td>    1.340     3.887</td>\n",
       "</tr>\n",
       "<tr>\n",
       "  <th>city[T.seattle]</th>       <td>    1.1350</td> <td>    0.695</td> <td>    1.634</td> <td> 0.102</td> <td>   -0.227     2.496</td>\n",
       "</tr>\n",
       "</table>"
      ],
      "text/plain": [
       "<class 'statsmodels.iolib.summary.Summary'>\n",
       "\"\"\"\n",
       "                           Logit Regression Results                           \n",
       "==============================================================================\n",
       "Dep. Variable:           salary_scale   No. Observations:                  406\n",
       "Model:                          Logit   Df Residuals:                      388\n",
       "Method:                           MLE   Df Model:                           17\n",
       "Date:                Mon, 16 Jan 2017   Pseudo R-squ.:                  0.1581\n",
       "Time:                        11:30:22   Log-Likelihood:                -236.78\n",
       "converged:                      False   LL-Null:                       -281.24\n",
       "                                        LLR p-value:                 9.573e-12\n",
       "=========================================================================================\n",
       "                            coef    std err          z      P>|z|      [95.0% Conf. Int.]\n",
       "-----------------------------------------------------------------------------------------\n",
       "Intercept                -1.0296      0.521     -1.976      0.048        -2.051    -0.009\n",
       "city[T.austin]            0.7419      0.925      0.802      0.422        -1.070     2.554\n",
       "city[T.boston]            1.9910      0.615      3.239      0.001         0.786     3.196\n",
       "city[T.chicago]           1.2660      0.625      2.025      0.043         0.041     2.491\n",
       "city[T.dallas]            0.6931      0.784      0.884      0.376        -0.843     2.229\n",
       "city[T.denver]           -0.5108      0.822     -0.621      0.534        -2.123     1.101\n",
       "city[T.houston]         -12.9611    363.855     -0.036      0.972      -726.103   700.181\n",
       "city[T.los_angeles]       1.1166      0.668      1.673      0.094        -0.192     2.425\n",
       "city[T.miami]             0.3365      1.011      0.333      0.739        -1.644     2.317\n",
       "city[T.new_york]          0.8329      0.558      1.493      0.135        -0.260     1.926\n",
       "city[T.palo_alto]         2.0794      0.681      3.052      0.002         0.744     3.415\n",
       "city[T.philadelphia]      1.5892      0.815      1.950      0.051        -0.008     3.187\n",
       "city[T.phoenix]         -23.4222   8.33e+04     -0.000      1.000     -1.63e+05  1.63e+05\n",
       "city[T.pittsburgh]      -12.9611    363.855     -0.036      0.972      -726.103   700.181\n",
       "city[T.portland]        -17.5078   1.06e+04     -0.002      0.999     -2.08e+04  2.08e+04\n",
       "city[T.san_diego]         0.6242      0.830      0.752      0.452        -1.002     2.250\n",
       "city[T.san_francisco]     2.6137      0.650      4.023      0.000         1.340     3.887\n",
       "city[T.seattle]           1.1350      0.695      1.634      0.102        -0.227     2.496\n",
       "=========================================================================================\n",
       "\"\"\""
      ]
     },
     "execution_count": 1035,
     "metadata": {},
     "output_type": "execute_result"
    }
   ],
   "source": [
    "import statsmodels.formula.api as sm\n",
    "\n",
    "model = sm.logit(\"salary_scale ~ city\", data=df).fit()\n",
    "model.summary()"
   ]
  },
  {
   "cell_type": "markdown",
   "metadata": {},
   "source": [
    "### The coeffients show a wide range of salary per city. Specifically Phoenix (-23.42) against San Francisco (2.61). "
   ]
  },
  {
   "cell_type": "markdown",
   "metadata": {
    "focus": false,
    "id": "0ef04f32-419c-4bf2-baf7-48201f03df89"
   },
   "source": [
    "#### Create a few new variables in your dataframe to represent interesting features of a job title.\n",
    "- For example, create a feature that represents whether 'Senior' is in the title \n",
    "- or whether 'Manager' is in the title. \n",
    "- Then build a new Logistic Regression model with these features. Do they add any value? \n"
   ]
  },
  {
   "cell_type": "code",
   "execution_count": 1206,
   "metadata": {
    "collapsed": false
   },
   "outputs": [
    {
     "name": "stdout",
     "output_type": "stream",
     "text": [
      "Optimization terminated successfully.\n",
      "         Current function value: 0.677576\n",
      "         Iterations 5\n"
     ]
    },
    {
     "data": {
      "text/html": [
       "<table class=\"simpletable\">\n",
       "<caption>Logit Regression Results</caption>\n",
       "<tr>\n",
       "  <th>Dep. Variable:</th>   <td>salary_scale</td>   <th>  No. Observations:  </th>  <td>   406</td>  \n",
       "</tr>\n",
       "<tr>\n",
       "  <th>Model:</th>               <td>Logit</td>      <th>  Df Residuals:      </th>  <td>   404</td>  \n",
       "</tr>\n",
       "<tr>\n",
       "  <th>Method:</th>               <td>MLE</td>       <th>  Df Model:          </th>  <td>     1</td>  \n",
       "</tr>\n",
       "<tr>\n",
       "  <th>Date:</th>          <td>Mon, 16 Jan 2017</td> <th>  Pseudo R-squ.:     </th>  <td>0.02185</td> \n",
       "</tr>\n",
       "<tr>\n",
       "  <th>Time:</th>              <td>13:14:12</td>     <th>  Log-Likelihood:    </th> <td> -275.10</td> \n",
       "</tr>\n",
       "<tr>\n",
       "  <th>converged:</th>           <td>True</td>       <th>  LL-Null:           </th> <td> -281.24</td> \n",
       "</tr>\n",
       "<tr>\n",
       "  <th> </th>                      <td> </td>        <th>  LLR p-value:       </th> <td>0.0004555</td>\n",
       "</tr>\n",
       "</table>\n",
       "<table class=\"simpletable\">\n",
       "<tr>\n",
       "      <td></td>         <th>coef</th>     <th>std err</th>      <th>z</th>      <th>P>|z|</th> <th>[95.0% Conf. Int.]</th> \n",
       "</tr>\n",
       "<tr>\n",
       "  <th>Intercept</th> <td>   -0.0805</td> <td>    0.107</td> <td>   -0.750</td> <td> 0.453</td> <td>   -0.291     0.130</td>\n",
       "</tr>\n",
       "<tr>\n",
       "  <th>senior</th>    <td>    1.0456</td> <td>    0.313</td> <td>    3.343</td> <td> 0.001</td> <td>    0.433     1.659</td>\n",
       "</tr>\n",
       "</table>"
      ],
      "text/plain": [
       "<class 'statsmodels.iolib.summary.Summary'>\n",
       "\"\"\"\n",
       "                           Logit Regression Results                           \n",
       "==============================================================================\n",
       "Dep. Variable:           salary_scale   No. Observations:                  406\n",
       "Model:                          Logit   Df Residuals:                      404\n",
       "Method:                           MLE   Df Model:                            1\n",
       "Date:                Mon, 16 Jan 2017   Pseudo R-squ.:                 0.02185\n",
       "Time:                        13:14:12   Log-Likelihood:                -275.10\n",
       "converged:                       True   LL-Null:                       -281.24\n",
       "                                        LLR p-value:                 0.0004555\n",
       "==============================================================================\n",
       "                 coef    std err          z      P>|z|      [95.0% Conf. Int.]\n",
       "------------------------------------------------------------------------------\n",
       "Intercept     -0.0805      0.107     -0.750      0.453        -0.291     0.130\n",
       "senior         1.0456      0.313      3.343      0.001         0.433     1.659\n",
       "==============================================================================\n",
       "\"\"\""
      ]
     },
     "execution_count": 1206,
     "metadata": {},
     "output_type": "execute_result"
    }
   ],
   "source": [
    "import statsmodels.formula.api as sm\n",
    "\n",
    "model = sm.logit(\"salary_scale ~ senior\", data=df).fit()\n",
    "model.summary()"
   ]
  },
  {
   "cell_type": "markdown",
   "metadata": {
    "focus": false,
    "id": "c7631f51-07f2-4c79-a093-3e9bc7849a48"
   },
   "source": [
    "#### We want to predict a binary variable - whether the salary was low or high. Compute the median salary and create a new binary variable that is true when the salary is high (above the median)\n",
    "\n",
    "We could also perform Linear Regression (or any regression) to predict the salary value here. Instead, we are going to convert this into a _binary_ classification problem, by predicting two classes, HIGH vs LOW salary.\n",
    "\n",
    "While performing regression may be better, performing classification may help remove some of the noise of the extreme salaries. We don't have to choice the `median` as the splitting point - we could also split on the 75th percentile or any other reasonable breaking point.\n",
    "\n",
    "In fact, the ideal scenario may be to predict many levels of salaries, "
   ]
  },
  {
   "cell_type": "code",
   "execution_count": 1081,
   "metadata": {
    "collapsed": false,
    "scrolled": true
   },
   "outputs": [
    {
     "data": {
      "text/html": [
       "<div>\n",
       "<table border=\"1\" class=\"dataframe\">\n",
       "  <thead>\n",
       "    <tr style=\"text-align: right;\">\n",
       "      <th></th>\n",
       "      <th>salary_scale</th>\n",
       "      <th>senior</th>\n",
       "      <th>data</th>\n",
       "      <th>scientist</th>\n",
       "      <th>engineer</th>\n",
       "      <th>engineering</th>\n",
       "      <th>python</th>\n",
       "      <th>r</th>\n",
       "      <th>geospatial</th>\n",
       "      <th>machine learning</th>\n",
       "      <th>...</th>\n",
       "      <th>miami</th>\n",
       "      <th>new_york</th>\n",
       "      <th>palo_alto</th>\n",
       "      <th>philadelphia</th>\n",
       "      <th>phoenix</th>\n",
       "      <th>pittsburgh</th>\n",
       "      <th>portland</th>\n",
       "      <th>san_diego</th>\n",
       "      <th>san_francisco</th>\n",
       "      <th>seattle</th>\n",
       "    </tr>\n",
       "  </thead>\n",
       "  <tbody>\n",
       "    <tr>\n",
       "      <th>0</th>\n",
       "      <td>0</td>\n",
       "      <td>0</td>\n",
       "      <td>0</td>\n",
       "      <td>0</td>\n",
       "      <td>0</td>\n",
       "      <td>0</td>\n",
       "      <td>0</td>\n",
       "      <td>0</td>\n",
       "      <td>0</td>\n",
       "      <td>0</td>\n",
       "      <td>...</td>\n",
       "      <td>0</td>\n",
       "      <td>0</td>\n",
       "      <td>0</td>\n",
       "      <td>0</td>\n",
       "      <td>0</td>\n",
       "      <td>0</td>\n",
       "      <td>0</td>\n",
       "      <td>0</td>\n",
       "      <td>0</td>\n",
       "      <td>0</td>\n",
       "    </tr>\n",
       "    <tr>\n",
       "      <th>1</th>\n",
       "      <td>0</td>\n",
       "      <td>0</td>\n",
       "      <td>0</td>\n",
       "      <td>0</td>\n",
       "      <td>0</td>\n",
       "      <td>0</td>\n",
       "      <td>0</td>\n",
       "      <td>0</td>\n",
       "      <td>0</td>\n",
       "      <td>0</td>\n",
       "      <td>...</td>\n",
       "      <td>0</td>\n",
       "      <td>0</td>\n",
       "      <td>0</td>\n",
       "      <td>0</td>\n",
       "      <td>0</td>\n",
       "      <td>0</td>\n",
       "      <td>0</td>\n",
       "      <td>0</td>\n",
       "      <td>0</td>\n",
       "      <td>0</td>\n",
       "    </tr>\n",
       "  </tbody>\n",
       "</table>\n",
       "<p>2 rows × 46 columns</p>\n",
       "</div>"
      ],
      "text/plain": [
       "   salary_scale  senior  data  scientist  engineer  engineering  python   r   \\\n",
       "0             0       0     0          0         0            0       0    0   \n",
       "1             0       0     0          0         0            0       0    0   \n",
       "\n",
       "   geospatial  machine learning   ...     miami  new_york  palo_alto  \\\n",
       "0           0                 0   ...         0         0          0   \n",
       "1           0                 0   ...         0         0          0   \n",
       "\n",
       "   philadelphia  phoenix  pittsburgh  portland  san_diego  san_francisco  \\\n",
       "0             0        0           0         0          0              0   \n",
       "1             0        0           0         0          0              0   \n",
       "\n",
       "   seattle  \n",
       "0        0  \n",
       "1        0  \n",
       "\n",
       "[2 rows x 46 columns]"
      ]
     },
     "execution_count": 1081,
     "metadata": {},
     "output_type": "execute_result"
    }
   ],
   "source": [
    "df_group.head(2)"
   ]
  },
  {
   "cell_type": "code",
   "execution_count": 1111,
   "metadata": {
    "collapsed": false
   },
   "outputs": [],
   "source": [
    "# Using two X datasets \n",
    "X = df_group.ix[:,1:]\n",
    "#X = df_titles_salary.ix[:,1:]\n",
    "y = df_group['salary_scale']"
   ]
  },
  {
   "cell_type": "code",
   "execution_count": 1083,
   "metadata": {
    "collapsed": true
   },
   "outputs": [],
   "source": [
    "#X = st.add_constant(X, prepend = False)"
   ]
  },
  {
   "cell_type": "code",
   "execution_count": 1084,
   "metadata": {
    "collapsed": false
   },
   "outputs": [],
   "source": [
    "# Create an array if needed\n",
    "#y = y.values"
   ]
  },
  {
   "cell_type": "code",
   "execution_count": 1145,
   "metadata": {
    "collapsed": false,
    "scrolled": true
   },
   "outputs": [
    {
     "data": {
      "text/plain": [
       "(406,)"
      ]
     },
     "execution_count": 1145,
     "metadata": {},
     "output_type": "execute_result"
    }
   ],
   "source": [
    "y.shape"
   ]
  },
  {
   "cell_type": "code",
   "execution_count": 1144,
   "metadata": {
    "collapsed": false,
    "scrolled": true
   },
   "outputs": [
    {
     "data": {
      "text/plain": [
       "(406, 45)"
      ]
     },
     "execution_count": 1144,
     "metadata": {},
     "output_type": "execute_result"
    }
   ],
   "source": [
    "X.shape"
   ]
  },
  {
   "cell_type": "markdown",
   "metadata": {
    "focus": false,
    "id": "a7afb2c0-d41e-4779-8216-91cd8dd4473f"
   },
   "source": [
    "#### Thought experiment: What is the baseline accuracy for this model?"
   ]
  },
  {
   "cell_type": "code",
   "execution_count": 1159,
   "metadata": {
    "collapsed": false,
    "focus": false,
    "id": "87a17d3d-b7f4-4747-9f75-f9af1d18a174"
   },
   "outputs": [
    {
     "name": "stdout",
     "output_type": "stream",
     "text": [
      "Baseline accuracy\n",
      "0.485221674877\n"
     ]
    }
   ],
   "source": [
    "print 'Baseline accuracy'\n",
    "print 1. - np.mean(y)"
   ]
  },
  {
   "cell_type": "code",
   "execution_count": 1114,
   "metadata": {
    "collapsed": true
   },
   "outputs": [],
   "source": [
    "from sklearn.neighbors import KNeighborsClassifier\n",
    "\n",
    "knn = KNeighborsClassifier(n_neighbors=17, weights='distance')"
   ]
  },
  {
   "cell_type": "code",
   "execution_count": 1115,
   "metadata": {
    "collapsed": false
   },
   "outputs": [
    {
     "name": "stdout",
     "output_type": "stream",
     "text": [
      "[ 0.7804878   0.80487805  0.7804878   0.73170732  0.73170732  0.73170732\n",
      "  0.65853659  0.5         0.9         0.74358974]\n",
      "0.736310193871\n"
     ]
    }
   ],
   "source": [
    "from sklearn.model_selection import cross_val_score\n",
    "# from sklearn.cross_validation import cross_val_score\n",
    "\n",
    "scores = cross_val_score(knn, X, y, cv=10)\n",
    "print scores\n",
    "print np.mean(scores)"
   ]
  },
  {
   "cell_type": "code",
   "execution_count": 1117,
   "metadata": {
    "collapsed": false,
    "scrolled": true
   },
   "outputs": [
    {
     "data": {
      "text/plain": [
       "KNeighborsClassifier(algorithm='auto', leaf_size=30, metric='minkowski',\n",
       "           metric_params=None, n_jobs=1, n_neighbors=17, p=2,\n",
       "           weights='distance')"
      ]
     },
     "execution_count": 1117,
     "metadata": {},
     "output_type": "execute_result"
    }
   ],
   "source": [
    "knn.fit(X, y)"
   ]
  },
  {
   "cell_type": "code",
   "execution_count": 1132,
   "metadata": {
    "collapsed": false,
    "scrolled": true
   },
   "outputs": [
    {
     "data": {
      "text/plain": [
       "0.91871921182266014"
      ]
     },
     "execution_count": 1132,
     "metadata": {},
     "output_type": "execute_result"
    }
   ],
   "source": [
    "knn.score(X, y)"
   ]
  },
  {
   "cell_type": "code",
   "execution_count": 1198,
   "metadata": {
    "collapsed": false
   },
   "outputs": [
    {
     "data": {
      "text/plain": [
       "array([[180,  17],\n",
       "       [ 16, 193]])"
      ]
     },
     "execution_count": 1198,
     "metadata": {},
     "output_type": "execute_result"
    }
   ],
   "source": [
    "from sklearn.metrics import confusion_matrix\n",
    "\n",
    "confusion_matrix(y, predicted)"
   ]
  },
  {
   "cell_type": "code",
   "execution_count": 1199,
   "metadata": {
    "collapsed": false,
    "focus": false,
    "id": "588f9845-6143-4bcc-bfd1-85d45b79303d"
   },
   "outputs": [],
   "source": [
    "from sklearn.linear_model import LogisticRegression\n",
    "\n",
    "lr = LogisticRegression(penalty='l2', C=1)"
   ]
  },
  {
   "cell_type": "code",
   "execution_count": 1200,
   "metadata": {
    "collapsed": false
   },
   "outputs": [
    {
     "name": "stdout",
     "output_type": "stream",
     "text": [
      "('INITIAL MODEL ACCURACY (No cross validation: ', 0.83497536945812811)\n",
      "('CV 5 Fold Scores', array([ 0.82926829,  0.7804878 ,  0.7654321 ,  0.66666667,  0.8625    ]))\n",
      "('CV 5 Fold Mean accuracy', 0.78087097259861482)\n",
      "('CV 5 Fold STD of accuracy', 0.066763354981571266)\n"
     ]
    }
   ],
   "source": [
    "lr.fit(X, y)\n",
    "print('INITIAL MODEL ACCURACY (No cross validation: ' , lr.score(X,y))\n",
    "\n",
    "from sklearn import model_selection\n",
    "from sklearn.model_selection import cross_val_score\n",
    "\n",
    "scores = cross_val_score(lr, X, y, scoring='accuracy', cv=5)\n",
    "\n",
    "print('CV 5 Fold Scores', scores)\n",
    "print('CV 5 Fold Mean accuracy', scores.mean())\n",
    "print('CV 5 Fold STD of accuracy', scores.std())"
   ]
  },
  {
   "cell_type": "code",
   "execution_count": 1088,
   "metadata": {
    "collapsed": false
   },
   "outputs": [
    {
     "name": "stdout",
     "output_type": "stream",
     "text": [
      "Accuracy: 0.7647\n",
      "[[38 12]\n",
      " [12 40]]\n",
      "Total Misclassified Samples (sum off-diagonals): 24\n"
     ]
    }
   ],
   "source": [
    "# DIVIDE DATASET INTO SEPARATE TRAINING DATASET - TEST SIZE SET TO 0.33 - TRAIN_TEST_SPLIT\n",
    "from sklearn.model_selection import train_test_split\n",
    "\n",
    "X_train, X_test, y_train, y_test = train_test_split(X, y, test_size=0.25, random_state=1)\n",
    "\n",
    "lr.fit(X_train, y_train)\n",
    "\n",
    "# print lr.score(X_test, y_test)\n",
    "# MAKE A PREDICTION ON THE TEST SET AS DIRECTED\n",
    "y_pred = lr.predict(X_test)\n",
    "from sklearn.metrics import accuracy_score\n",
    "print('Accuracy: %.4f' % accuracy_score(y_test, y_pred))\n",
    "from sklearn.metrics import confusion_matrix\n",
    "confmat = confusion_matrix(y_true=y_test, y_pred=y_pred)\n",
    "print(confmat)\n",
    "\n",
    "# COMPARE THE PREDICTIONS TO THE ANSWERS TO DETERMINE THE CLASSIFICATION REPORT\n",
    "print('Total Misclassified Samples (sum off-diagonals): %d' % (y_test != y_pred).sum())\n",
    "## CREATE confmat variable being careful of the order of y_true and y_pred\n",
    "##"
   ]
  },
  {
   "cell_type": "code",
   "execution_count": 1040,
   "metadata": {
    "collapsed": false
   },
   "outputs": [
    {
     "name": "stdout",
     "output_type": "stream",
     "text": [
      "Confusion Matrix for Type I and Type II Error\n"
     ]
    },
    {
     "data": {
      "image/png": "[encoded data removed]",
      "text/plain": [
       "<matplotlib.figure.Figure at 0x11ff20510>"
      ]
     },
     "metadata": {},
     "output_type": "display_data"
    },
    {
     "name": "stdout",
     "output_type": "stream",
     "text": [
      "Classification Report: \n",
      "                precision    recall  f1-score   support\n",
      "\n",
      "    Under 100K       0.76      0.76      0.76        50\n",
      "100K and above       0.77      0.77      0.77        52\n",
      "\n",
      "   avg / total       0.76      0.76      0.76       102\n",
      "\n"
     ]
    }
   ],
   "source": [
    "fig, ax = plt.subplots(figsize=(6, 6))\n",
    "ax.matshow(confmat, cmap=plt.cm.Blues, alpha=0.3)\n",
    "for i in range(confmat.shape[0]):\n",
    "    for j in range(confmat.shape[1]):\n",
    "        ax.text(x=j, y=i,\n",
    "            s=confmat[i, j],\n",
    "            va='center', ha='center')\n",
    "plt.xlabel('predicted label')\n",
    "plt.ylabel('true label')\n",
    "print('Confusion Matrix for Type I and Type II Error')\n",
    "plt.show()\n",
    "\n",
    "from sklearn.metrics import classification_report\n",
    "target_names = ['Under 100K', '100K and above']\n",
    "y_true = y_test\n",
    "print('Classification Report: ')\n",
    "print(classification_report(y_true, y_pred, target_names=target_names))"
   ]
  },
  {
   "cell_type": "code",
   "execution_count": 1089,
   "metadata": {
    "collapsed": false
   },
   "outputs": [
    {
     "name": "stdout",
     "output_type": "stream",
     "text": [
      "Scaled/Standardized Improved Test Accuracy: 0.7549\n"
     ]
    }
   ],
   "source": [
    "from sklearn.preprocessing import StandardScaler\n",
    "from sklearn.linear_model import LogisticRegression\n",
    "from sklearn.pipeline import Pipeline\n",
    "\n",
    "pipe_lr = Pipeline([ ('scl', StandardScaler()), ('clf', LogisticRegression(random_state=1)), ])\n",
    "\n",
    "pipe_lr.fit(X_train, y_train)\n",
    "\n",
    "print('Scaled/Standardized Improved Test Accuracy: %.4f' % pipe_lr.score(X_test, y_test))"
   ]
  },
  {
   "cell_type": "code",
   "execution_count": 1090,
   "metadata": {
    "collapsed": false
   },
   "outputs": [
    {
     "data": {
      "text/plain": [
       "Pipeline(steps=[('scl', StandardScaler(copy=True, with_mean=True, with_std=True)), ('clf', LogisticRegression(C=1.0, class_weight=None, dual=False, fit_intercept=True,\n",
       "          intercept_scaling=1, max_iter=100, multi_class='ovr', n_jobs=1,\n",
       "          penalty='l2', random_state=1, solver='liblinear', tol=0.0001,\n",
       "          verbose=0, warm_start=False))])"
      ]
     },
     "execution_count": 1090,
     "metadata": {},
     "output_type": "execute_result"
    }
   ],
   "source": [
    "pipe_lr"
   ]
  },
  {
   "cell_type": "code",
   "execution_count": 1091,
   "metadata": {
    "collapsed": true
   },
   "outputs": [],
   "source": [
    "from sklearn.model_selection import GridSearchCV"
   ]
  },
  {
   "cell_type": "code",
   "execution_count": 1092,
   "metadata": {
    "collapsed": false
   },
   "outputs": [
    {
     "name": "stdout",
     "output_type": "stream",
     "text": [
      "Grid Search Best Score: 0.7862\n",
      "Grid Search Best Parameter for C: \n",
      "{'clf__C': 0.01}\n"
     ]
    }
   ],
   "source": [
    "param_range = [0.0001, 0.001, 0.01, 0.1, 1.0, 10.0, 100.0, 1000.0]\n",
    "param_grid = [{'clf__C': param_range}]\n",
    "\n",
    "pipe_grid_search = GridSearchCV(pipe_lr, param_grid=param_grid, scoring='accuracy', cv=10, n_jobs=-1)\n",
    "\n",
    "pipe_grid_search = pipe_grid_search.fit(X_train, y_train)\n",
    "\n",
    "\n",
    "print('Grid Search Best Score: %.4f' % pipe_grid_search.best_score_)\n",
    "print('Grid Search Best Parameter for C: ')\n",
    "print pipe_grid_search.best_params_"
   ]
  },
  {
   "cell_type": "code",
   "execution_count": 1093,
   "metadata": {
    "collapsed": false
   },
   "outputs": [],
   "source": [
    "from sklearn.model_selection import validation_curve"
   ]
  },
  {
   "cell_type": "code",
   "execution_count": 1032,
   "metadata": {
    "collapsed": true
   },
   "outputs": [],
   "source": [
    "# Set the default matplotlib figure size:\n",
    "plt.rcParams['figure.figsize']=(10,10)"
   ]
  },
  {
   "cell_type": "code",
   "execution_count": 1094,
   "metadata": {
    "collapsed": false
   },
   "outputs": [
    {
     "data": {
      "image/png": "[encoded data removed]",
      "text/plain": [
       "<matplotlib.figure.Figure at 0x1187e9350>"
      ]
     },
     "metadata": {},
     "output_type": "display_data"
    },
    {
     "name": "stdout",
     "output_type": "stream",
     "text": [
      "NOTE:  This plot confirms the best choice of C as 0.1 made by the GridSearchCV\n"
     ]
    }
   ],
   "source": [
    "param_range = [0.001, 0.01, 0.1, 1.0, 10.0, 100.0]\n",
    "train_scores, test_scores = validation_curve(estimator=pipe_lr, X=X_train, y=y_train, param_name='clf__C', \n",
    "                                             param_range=param_range, cv=10)\n",
    "train_mean = np.mean(train_scores, axis=1)\n",
    "train_std = np.std(train_scores, axis=1)\n",
    "test_mean = np.mean(test_scores, axis=1)\n",
    "test_std = np.std(test_scores, axis=1)\n",
    "\n",
    "plt.plot(param_range, train_mean, color='blue', marker='o', markersize=5, label='training accuracy')\n",
    "\n",
    "plt.fill_between(param_range, train_mean + train_std, train_mean - train_std, alpha=0.15, color='blue')\n",
    "\n",
    "plt.plot(param_range, test_mean, color='green', linestyle='--', marker='s', markersize=5, label='validation accuracy')\n",
    "\n",
    "plt.fill_between(param_range,test_mean + test_std,test_mean - test_std,alpha=0.15, color='green')\n",
    "\n",
    "plt.grid()\n",
    "plt.xscale('log')\n",
    "plt.legend(loc='lower right')\n",
    "plt.xlabel('Parameter C')\n",
    "plt.ylabel('Accuracy')\n",
    "plt.ylim([0.8, 1.02])\n",
    "plt.show()\n",
    "print('NOTE:  This plot confirms the best choice of C as 0.1 made by the GridSearchCV')"
   ]
  },
  {
   "cell_type": "code",
   "execution_count": 1095,
   "metadata": {
    "collapsed": true
   },
   "outputs": [],
   "source": [
    "from sklearn import metrics"
   ]
  },
  {
   "cell_type": "code",
   "execution_count": 1096,
   "metadata": {
    "collapsed": false
   },
   "outputs": [
    {
     "name": "stdout",
     "output_type": "stream",
     "text": [
      "NOTE:  This plot confirms the above-mentioned Classification Report with its excellent results.\n"
     ]
    },
    {
     "data": {
      "image/png": "[encoded data removed]",
      "text/plain": [
       "<matplotlib.figure.Figure at 0x11e8a9b10>"
      ]
     },
     "metadata": {},
     "output_type": "display_data"
    }
   ],
   "source": [
    "prob = lr.predict_proba(X_test)[:,1]\n",
    "fpr, sensitivity, _ = metrics.roc_curve(y_test, prob)\n",
    "plt.plot(fpr,sensitivity,marker='o',linestyle='--',color='r')\n",
    "x=[i*0.01 for i in range(100)]\n",
    "y=[i*0.01 for i in range(100)]\n",
    "plt.plot(x,y)\n",
    "plt.xlabel('(1-Specificity)')\n",
    "plt.ylabel('Sensitivity')\n",
    "plt.title('ROC Curve')\n",
    "print('NOTE:  This plot confirms the above-mentioned Classification Report with its excellent results.')"
   ]
  }
 ],
 "metadata": {
  "anaconda-cloud": {},
  "kernelspec": {
   "display_name": "Python [conda env:py27]",
   "language": "python",
   "name": "conda-env-py27-py"
  }
 },
 "nbformat": 4,
 "nbformat_minor": 0
}
